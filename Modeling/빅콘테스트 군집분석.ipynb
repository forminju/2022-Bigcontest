{
 "cells": [
  {
   "cell_type": "markdown",
   "id": "f69830ad",
   "metadata": {},
   "source": [
    "### DBSCAN 군집분석"
   ]
  },
  {
   "cell_type": "code",
   "execution_count": null,
   "id": "71d9eb7b",
   "metadata": {},
   "outputs": [],
   "source": [
    "##scaling 진행(정규화)\n",
    "from sklearn.preprocessing import StandardScaler\n",
    "\n",
    "scaler = StandardScaler()\n",
    "df_scale = pd.DataFrame(scaler.fit_transform(df), columns = data.columns)\n"
   ]
  },
  {
   "cell_type": "code",
   "execution_count": null,
   "id": "299c3075",
   "metadata": {},
   "outputs": [],
   "source": [
    "##클러스터링 과정 구현\n",
    "\n",
    "from sklearn.cluster import DBSCAN\n",
    "\n",
    "# epsilon(최대 탐색 거리), min_samples(최소 샘플 개수) 설정\n",
    "model = DBSCAN(eps=0.5, min_samples=2)\n",
    "\n",
    "# 군집화 모델 학습 및 클러스터 예측 결과 반환\n",
    "model.fit(df_scale)\n",
    "df_scale['cluster'] = model.fit_predict(df_scale)"
   ]
  },
  {
   "cell_type": "code",
   "execution_count": null,
   "id": "07746ead",
   "metadata": {},
   "outputs": [],
   "source": [
    "##클러스터링 결과 시각화\n",
    "import matplotlib.pyplot as plt\n",
    "\n",
    "plt.figure(figsize = (8, 8))\n",
    "\n",
    "# 이상치 번호는 -1, 클러스터 최대 숫자까지 iteration\n",
    "for i in range(-1, df_scale['cluster'].max() + 1):\n",
    "    plt.scatter(df_scale.loc[df_scale['cluster'] == i, 'Annual Income (k$)'], df_scale.loc[df_scale['cluster'] == i, 'Spending Score (1-100)'], \n",
    "                    label = 'cluster ' + str(i))\n",
    "\n",
    "plt.legend()\n",
    "plt.title('eps = 0.5, min_samples = 2', size = 15)\n",
    "plt.xlabel('Annual Income', size = 12)\n",
    "plt.ylabel('Spending Score', size = 12)\n",
    "plt.show()"
   ]
  },
  {
   "cell_type": "code",
   "execution_count": null,
   "id": "122d7dc7",
   "metadata": {},
   "outputs": [],
   "source": [
    "# 다중 플롯 동시 시각화\n",
    "f, ax = plt.subplots(2, 2)\n",
    "f.set_size_inches((12, 12))\n",
    "\n",
    "for i in range(4):\n",
    "    # epsilon을 증가시키면서 반복\n",
    "    eps = 0.4 * (i + 1)\n",
    "    min_samples = 12\n",
    "\n",
    "    # 군집화 및 시각화 과정 자동화\n",
    "    model = DBSCAN(eps=eps, min_samples=min_samples)\n",
    "\n",
    "    model.fit(df_scale)\n",
    "    df_scale['cluster'] = model.fit_predict(df_scale)\n",
    "\n",
    "    for j in range(-1, df_scale['cluster'].max() + 1):\n",
    "        ax[i // 2, i % 2].scatter(df_scale.loc[df_scale['cluster'] == j, 'Annual Income (k$)'], df_scale.loc[df_scale['cluster'] == j, 'Spending Score (1-100)'], \n",
    "                        label = 'cluster ' + str(j))\n",
    "\n",
    "    ax[i // 2, i % 2].legend()\n",
    "    ax[i // 2, i % 2].set_title('eps = %.1f, min_samples = %d'%(eps, min_samples), size = 15)\n",
    "    ax[i // 2, i % 2].set_xlabel('Annual Income', size = 12)\n",
    "    ax[i // 2, i % 2].set_ylabel('Spending Score', size = 12)\n",
    "plt.show()"
   ]
  },
  {
   "cell_type": "markdown",
   "id": "f6edc820",
   "metadata": {},
   "source": [
    "### BIRCH"
   ]
  },
  {
   "cell_type": "code",
   "execution_count": null,
   "id": "9409a4ea",
   "metadata": {},
   "outputs": [],
   "source": [
    "from sklearn.cluster import Birch\n",
    "brc = Birch(n_clusters=None)\n",
    "brc.fit(X)\n",
    "brc.Predict(X)"
   ]
  },
  {
   "cell_type": "code",
   "execution_count": null,
   "id": "b941bbde",
   "metadata": {},
   "outputs": [],
   "source": []
  },
  {
   "cell_type": "code",
   "execution_count": null,
   "id": "f036c5f7",
   "metadata": {},
   "outputs": [],
   "source": []
  },
  {
   "cell_type": "code",
   "execution_count": null,
   "id": "98afb974",
   "metadata": {},
   "outputs": [],
   "source": []
  }
 ],
 "metadata": {
  "kernelspec": {
   "display_name": "Python 3 (ipykernel)",
   "language": "python",
   "name": "python3"
  },
  "language_info": {
   "codemirror_mode": {
    "name": "ipython",
    "version": 3
   },
   "file_extension": ".py",
   "mimetype": "text/x-python",
   "name": "python",
   "nbconvert_exporter": "python",
   "pygments_lexer": "ipython3",
   "version": "3.9.7"
  }
 },
 "nbformat": 4,
 "nbformat_minor": 5
}
