{
 "cells": [
  {
   "cell_type": "markdown",
   "metadata": {},
   "source": [
    "# 빅콘테스트 퓨처스 부문\n",
    "## 한중수교 / 김찬호, 김지민, 전민주, 조은정"
   ]
  },
  {
   "cell_type": "markdown",
   "metadata": {},
   "source": [
    "## 1. 데이터 탐색\n",
    "* 활용할 데이터를 탐색하기 위하여 user_spec, loan_result, log_data 파일을 각각 불러옵니다.\n",
    "\n",
    "* user_spec : application_id, user_id 를 기준으로 수치형 변수 10개와 범주형 변수 5개로 이루어진 유저 스펙을 담은 데이터셋\n",
    "* loan_result : application_id 를 기준으로 수치형 변수 6개와 범주형 변수 1개를 담은, 예측 모델링 시 타겟값이 되는 'is_applied' 컬럼을 담은 은행 및 대출상품 정보를 담은 데이터셋\n",
    "* log_data : user_id를 기준으로 수치형 변수 1개, 범주형 변수 5개를 담은, 유저의 행동패턴을 담은 데이터셋"
   ]
  },
  {
   "cell_type": "code",
   "execution_count": 1,
   "metadata": {},
   "outputs": [],
   "source": [
    "import pandas as pd\n",
    "import numpy as np\n",
    "import seaborn as sns\n",
    "import os\n",
    "import warnings\n",
    "import matplotlib.pyplot as plt\n",
    "from matplotlib import font_manager, rc\n",
    "%matplotlib inline\n",
    "\n",
    "warnings.filterwarnings(\"ignore\")\n",
    "\n",
    "font_name = font_manager.FontProperties(fname=\"c:/Windows/Fonts/malgun.ttf\").get_name()\n",
    "rc('font', family=font_name)\n",
    "\n",
    "user_spec = pd.read_csv(\"user_spec.csv\")\n",
    "loan_result = pd.read_csv(\"loan_result.csv\")\n",
    "log_data = pd.read_csv(\"log_data.csv\")\n"
   ]
  },
  {
   "cell_type": "code",
   "execution_count": 2,
   "metadata": {
    "collapsed": true
   },
   "outputs": [
    {
     "data": {
      "text/html": [
       "<div>\n",
       "<style scoped>\n",
       "    .dataframe tbody tr th:only-of-type {\n",
       "        vertical-align: middle;\n",
       "    }\n",
       "\n",
       "    .dataframe tbody tr th {\n",
       "        vertical-align: top;\n",
       "    }\n",
       "\n",
       "    .dataframe thead th {\n",
       "        text-align: right;\n",
       "    }\n",
       "</style>\n",
       "<table border=\"1\" class=\"dataframe\">\n",
       "  <thead>\n",
       "    <tr style=\"text-align: right;\">\n",
       "      <th></th>\n",
       "      <th>application_id</th>\n",
       "      <th>user_id</th>\n",
       "      <th>birth_year</th>\n",
       "      <th>gender</th>\n",
       "      <th>insert_time</th>\n",
       "      <th>credit_score</th>\n",
       "      <th>yearly_income</th>\n",
       "      <th>income_type</th>\n",
       "      <th>company_enter_month</th>\n",
       "      <th>employment_type</th>\n",
       "      <th>houseown_type</th>\n",
       "      <th>desired_amount</th>\n",
       "      <th>purpose</th>\n",
       "      <th>personal_rehabilitation_yn</th>\n",
       "      <th>personal_rehabilitation_complete_yn</th>\n",
       "      <th>existing_loan_cnt</th>\n",
       "      <th>existing_loan_amt</th>\n",
       "    </tr>\n",
       "  </thead>\n",
       "  <tbody>\n",
       "    <tr>\n",
       "      <th>0</th>\n",
       "      <td>1249046</td>\n",
       "      <td>118218</td>\n",
       "      <td>1985.0</td>\n",
       "      <td>1.0</td>\n",
       "      <td>2022-06-07 06:28:18</td>\n",
       "      <td>660.0</td>\n",
       "      <td>108000000.0</td>\n",
       "      <td>PRIVATEBUSINESS</td>\n",
       "      <td>20151101.0</td>\n",
       "      <td>기타</td>\n",
       "      <td>자가</td>\n",
       "      <td>1000000.0</td>\n",
       "      <td>기타</td>\n",
       "      <td>0.0</td>\n",
       "      <td>NaN</td>\n",
       "      <td>4.0</td>\n",
       "      <td>162000000.0</td>\n",
       "    </tr>\n",
       "    <tr>\n",
       "      <th>1</th>\n",
       "      <td>954900</td>\n",
       "      <td>553686</td>\n",
       "      <td>1968.0</td>\n",
       "      <td>1.0</td>\n",
       "      <td>2022-06-07 14:29:03</td>\n",
       "      <td>870.0</td>\n",
       "      <td>30000000.0</td>\n",
       "      <td>PRIVATEBUSINESS</td>\n",
       "      <td>20070201.0</td>\n",
       "      <td>정규직</td>\n",
       "      <td>기타가족소유</td>\n",
       "      <td>30000000.0</td>\n",
       "      <td>대환대출</td>\n",
       "      <td>0.0</td>\n",
       "      <td>NaN</td>\n",
       "      <td>1.0</td>\n",
       "      <td>27000000.0</td>\n",
       "    </tr>\n",
       "    <tr>\n",
       "      <th>2</th>\n",
       "      <td>137274</td>\n",
       "      <td>59516</td>\n",
       "      <td>1997.0</td>\n",
       "      <td>1.0</td>\n",
       "      <td>2022-06-07 21:40:22</td>\n",
       "      <td>710.0</td>\n",
       "      <td>30000000.0</td>\n",
       "      <td>FREELANCER</td>\n",
       "      <td>20210901.0</td>\n",
       "      <td>기타</td>\n",
       "      <td>기타가족소유</td>\n",
       "      <td>10000000.0</td>\n",
       "      <td>생활비</td>\n",
       "      <td>0.0</td>\n",
       "      <td>NaN</td>\n",
       "      <td>5.0</td>\n",
       "      <td>15000000.0</td>\n",
       "    </tr>\n",
       "    <tr>\n",
       "      <th>3</th>\n",
       "      <td>1570936</td>\n",
       "      <td>167320</td>\n",
       "      <td>1989.0</td>\n",
       "      <td>1.0</td>\n",
       "      <td>2022-06-07 09:40:27</td>\n",
       "      <td>820.0</td>\n",
       "      <td>62000000.0</td>\n",
       "      <td>EARNEDINCOME</td>\n",
       "      <td>20170101.0</td>\n",
       "      <td>정규직</td>\n",
       "      <td>자가</td>\n",
       "      <td>2000000.0</td>\n",
       "      <td>생활비</td>\n",
       "      <td>0.0</td>\n",
       "      <td>NaN</td>\n",
       "      <td>7.0</td>\n",
       "      <td>344000000.0</td>\n",
       "    </tr>\n",
       "    <tr>\n",
       "      <th>4</th>\n",
       "      <td>967833</td>\n",
       "      <td>33400</td>\n",
       "      <td>2000.0</td>\n",
       "      <td>1.0</td>\n",
       "      <td>2022-06-07 08:55:07</td>\n",
       "      <td>630.0</td>\n",
       "      <td>36000000.0</td>\n",
       "      <td>EARNEDINCOME</td>\n",
       "      <td>20210901.0</td>\n",
       "      <td>정규직</td>\n",
       "      <td>기타가족소유</td>\n",
       "      <td>5000000.0</td>\n",
       "      <td>생활비</td>\n",
       "      <td>0.0</td>\n",
       "      <td>0.0</td>\n",
       "      <td>1.0</td>\n",
       "      <td>16000000.0</td>\n",
       "    </tr>\n",
       "  </tbody>\n",
       "</table>\n",
       "</div>"
      ],
      "text/plain": [
       "   application_id  user_id  birth_year  gender          insert_time  \\\n",
       "0         1249046   118218      1985.0     1.0  2022-06-07 06:28:18   \n",
       "1          954900   553686      1968.0     1.0  2022-06-07 14:29:03   \n",
       "2          137274    59516      1997.0     1.0  2022-06-07 21:40:22   \n",
       "3         1570936   167320      1989.0     1.0  2022-06-07 09:40:27   \n",
       "4          967833    33400      2000.0     1.0  2022-06-07 08:55:07   \n",
       "\n",
       "   credit_score  yearly_income      income_type  company_enter_month  \\\n",
       "0         660.0    108000000.0  PRIVATEBUSINESS           20151101.0   \n",
       "1         870.0     30000000.0  PRIVATEBUSINESS           20070201.0   \n",
       "2         710.0     30000000.0       FREELANCER           20210901.0   \n",
       "3         820.0     62000000.0     EARNEDINCOME           20170101.0   \n",
       "4         630.0     36000000.0     EARNEDINCOME           20210901.0   \n",
       "\n",
       "  employment_type houseown_type  desired_amount purpose  \\\n",
       "0              기타            자가       1000000.0      기타   \n",
       "1             정규직        기타가족소유      30000000.0    대환대출   \n",
       "2              기타        기타가족소유      10000000.0     생활비   \n",
       "3             정규직            자가       2000000.0     생활비   \n",
       "4             정규직        기타가족소유       5000000.0     생활비   \n",
       "\n",
       "   personal_rehabilitation_yn  personal_rehabilitation_complete_yn  \\\n",
       "0                         0.0                                  NaN   \n",
       "1                         0.0                                  NaN   \n",
       "2                         0.0                                  NaN   \n",
       "3                         0.0                                  NaN   \n",
       "4                         0.0                                  0.0   \n",
       "\n",
       "   existing_loan_cnt  existing_loan_amt  \n",
       "0                4.0        162000000.0  \n",
       "1                1.0         27000000.0  \n",
       "2                5.0         15000000.0  \n",
       "3                7.0        344000000.0  \n",
       "4                1.0         16000000.0  "
      ]
     },
     "execution_count": 2,
     "metadata": {},
     "output_type": "execute_result"
    }
   ],
   "source": [
    "user_spec.head()"
   ]
  },
  {
   "cell_type": "code",
   "execution_count": 3,
   "metadata": {
    "collapsed": true
   },
   "outputs": [
    {
     "name": "stdout",
     "output_type": "stream",
     "text": [
      "<class 'pandas.core.frame.DataFrame'>\n",
      "RangeIndex: 1394216 entries, 0 to 1394215\n",
      "Data columns (total 17 columns):\n",
      " #   Column                               Non-Null Count    Dtype  \n",
      "---  ------                               --------------    -----  \n",
      " 0   application_id                       1394216 non-null  int64  \n",
      " 1   user_id                              1394216 non-null  int64  \n",
      " 2   birth_year                           1381255 non-null  float64\n",
      " 3   gender                               1381255 non-null  float64\n",
      " 4   insert_time                          1394216 non-null  object \n",
      " 5   credit_score                         1289101 non-null  float64\n",
      " 6   yearly_income                        1394126 non-null  float64\n",
      " 7   income_type                          1394131 non-null  object \n",
      " 8   company_enter_month                  1222456 non-null  float64\n",
      " 9   employment_type                      1394131 non-null  object \n",
      " 10  houseown_type                        1394131 non-null  object \n",
      " 11  desired_amount                       1394131 non-null  float64\n",
      " 12  purpose                              1394131 non-null  object \n",
      " 13  personal_rehabilitation_yn           806755 non-null   float64\n",
      " 14  personal_rehabilitation_complete_yn  190862 non-null   float64\n",
      " 15  existing_loan_cnt                    1195660 non-null  float64\n",
      " 16  existing_loan_amt                    1080442 non-null  float64\n",
      "dtypes: float64(10), int64(2), object(5)\n",
      "memory usage: 180.8+ MB\n"
     ]
    }
   ],
   "source": [
    "user_spec.info()"
   ]
  },
  {
   "cell_type": "code",
   "execution_count": 4,
   "metadata": {
    "collapsed": true
   },
   "outputs": [
    {
     "data": {
      "text/html": [
       "<div>\n",
       "<style scoped>\n",
       "    .dataframe tbody tr th:only-of-type {\n",
       "        vertical-align: middle;\n",
       "    }\n",
       "\n",
       "    .dataframe tbody tr th {\n",
       "        vertical-align: top;\n",
       "    }\n",
       "\n",
       "    .dataframe thead th {\n",
       "        text-align: right;\n",
       "    }\n",
       "</style>\n",
       "<table border=\"1\" class=\"dataframe\">\n",
       "  <thead>\n",
       "    <tr style=\"text-align: right;\">\n",
       "      <th></th>\n",
       "      <th>application_id</th>\n",
       "      <th>loanapply_insert_time</th>\n",
       "      <th>bank_id</th>\n",
       "      <th>product_id</th>\n",
       "      <th>loan_limit</th>\n",
       "      <th>loan_rate</th>\n",
       "      <th>is_applied</th>\n",
       "    </tr>\n",
       "  </thead>\n",
       "  <tbody>\n",
       "    <tr>\n",
       "      <th>0</th>\n",
       "      <td>1748340</td>\n",
       "      <td>2022-06-07 13:05:41</td>\n",
       "      <td>7</td>\n",
       "      <td>191</td>\n",
       "      <td>42000000.0</td>\n",
       "      <td>13.6</td>\n",
       "      <td>NaN</td>\n",
       "    </tr>\n",
       "    <tr>\n",
       "      <th>1</th>\n",
       "      <td>1748340</td>\n",
       "      <td>2022-06-07 13:05:41</td>\n",
       "      <td>25</td>\n",
       "      <td>169</td>\n",
       "      <td>24000000.0</td>\n",
       "      <td>17.9</td>\n",
       "      <td>NaN</td>\n",
       "    </tr>\n",
       "    <tr>\n",
       "      <th>2</th>\n",
       "      <td>1748340</td>\n",
       "      <td>2022-06-07 13:05:41</td>\n",
       "      <td>2</td>\n",
       "      <td>7</td>\n",
       "      <td>24000000.0</td>\n",
       "      <td>18.5</td>\n",
       "      <td>NaN</td>\n",
       "    </tr>\n",
       "    <tr>\n",
       "      <th>3</th>\n",
       "      <td>1748340</td>\n",
       "      <td>2022-06-07 13:05:41</td>\n",
       "      <td>4</td>\n",
       "      <td>268</td>\n",
       "      <td>29000000.0</td>\n",
       "      <td>10.8</td>\n",
       "      <td>NaN</td>\n",
       "    </tr>\n",
       "    <tr>\n",
       "      <th>4</th>\n",
       "      <td>1748340</td>\n",
       "      <td>2022-06-07 13:05:41</td>\n",
       "      <td>11</td>\n",
       "      <td>118</td>\n",
       "      <td>5000000.0</td>\n",
       "      <td>16.4</td>\n",
       "      <td>NaN</td>\n",
       "    </tr>\n",
       "  </tbody>\n",
       "</table>\n",
       "</div>"
      ],
      "text/plain": [
       "   application_id loanapply_insert_time  bank_id  product_id  loan_limit  \\\n",
       "0         1748340   2022-06-07 13:05:41        7         191  42000000.0   \n",
       "1         1748340   2022-06-07 13:05:41       25         169  24000000.0   \n",
       "2         1748340   2022-06-07 13:05:41        2           7  24000000.0   \n",
       "3         1748340   2022-06-07 13:05:41        4         268  29000000.0   \n",
       "4         1748340   2022-06-07 13:05:41       11         118   5000000.0   \n",
       "\n",
       "   loan_rate  is_applied  \n",
       "0       13.6         NaN  \n",
       "1       17.9         NaN  \n",
       "2       18.5         NaN  \n",
       "3       10.8         NaN  \n",
       "4       16.4         NaN  "
      ]
     },
     "execution_count": 4,
     "metadata": {},
     "output_type": "execute_result"
    }
   ],
   "source": [
    "loan_result.head()"
   ]
  },
  {
   "cell_type": "code",
   "execution_count": 5,
   "metadata": {
    "collapsed": true
   },
   "outputs": [
    {
     "name": "stdout",
     "output_type": "stream",
     "text": [
      "<class 'pandas.core.frame.DataFrame'>\n",
      "RangeIndex: 13527363 entries, 0 to 13527362\n",
      "Data columns (total 7 columns):\n",
      " #   Column                 Dtype  \n",
      "---  ------                 -----  \n",
      " 0   application_id         int64  \n",
      " 1   loanapply_insert_time  object \n",
      " 2   bank_id                int64  \n",
      " 3   product_id             int64  \n",
      " 4   loan_limit             float64\n",
      " 5   loan_rate              float64\n",
      " 6   is_applied             float64\n",
      "dtypes: float64(3), int64(3), object(1)\n",
      "memory usage: 722.4+ MB\n"
     ]
    }
   ],
   "source": [
    "loan_result.info()"
   ]
  },
  {
   "cell_type": "code",
   "execution_count": 6,
   "metadata": {
    "collapsed": true
   },
   "outputs": [
    {
     "data": {
      "text/html": [
       "<div>\n",
       "<style scoped>\n",
       "    .dataframe tbody tr th:only-of-type {\n",
       "        vertical-align: middle;\n",
       "    }\n",
       "\n",
       "    .dataframe tbody tr th {\n",
       "        vertical-align: top;\n",
       "    }\n",
       "\n",
       "    .dataframe thead th {\n",
       "        text-align: right;\n",
       "    }\n",
       "</style>\n",
       "<table border=\"1\" class=\"dataframe\">\n",
       "  <thead>\n",
       "    <tr style=\"text-align: right;\">\n",
       "      <th></th>\n",
       "      <th>user_id</th>\n",
       "      <th>event</th>\n",
       "      <th>timestamp</th>\n",
       "      <th>mp_os</th>\n",
       "      <th>mp_app_version</th>\n",
       "      <th>date_cd</th>\n",
       "    </tr>\n",
       "  </thead>\n",
       "  <tbody>\n",
       "    <tr>\n",
       "      <th>0</th>\n",
       "      <td>576409</td>\n",
       "      <td>StartLoanApply</td>\n",
       "      <td>2022-03-25 11:12:09</td>\n",
       "      <td>Android</td>\n",
       "      <td>3.8.2</td>\n",
       "      <td>2022-03-25</td>\n",
       "    </tr>\n",
       "    <tr>\n",
       "      <th>1</th>\n",
       "      <td>576409</td>\n",
       "      <td>ViewLoanApplyIntro</td>\n",
       "      <td>2022-03-25 11:12:09</td>\n",
       "      <td>Android</td>\n",
       "      <td>3.8.2</td>\n",
       "      <td>2022-03-25</td>\n",
       "    </tr>\n",
       "    <tr>\n",
       "      <th>2</th>\n",
       "      <td>72878</td>\n",
       "      <td>EndLoanApply</td>\n",
       "      <td>2022-03-25 11:14:44</td>\n",
       "      <td>Android</td>\n",
       "      <td>3.8.4</td>\n",
       "      <td>2022-03-25</td>\n",
       "    </tr>\n",
       "    <tr>\n",
       "      <th>3</th>\n",
       "      <td>645317</td>\n",
       "      <td>OpenApp</td>\n",
       "      <td>2022-03-25 11:15:09</td>\n",
       "      <td>iOS</td>\n",
       "      <td>3.6.1</td>\n",
       "      <td>2022-03-25</td>\n",
       "    </tr>\n",
       "    <tr>\n",
       "      <th>4</th>\n",
       "      <td>645317</td>\n",
       "      <td>UseLoanManage</td>\n",
       "      <td>2022-03-25 11:15:11</td>\n",
       "      <td>iOS</td>\n",
       "      <td>3.6.1</td>\n",
       "      <td>2022-03-25</td>\n",
       "    </tr>\n",
       "  </tbody>\n",
       "</table>\n",
       "</div>"
      ],
      "text/plain": [
       "   user_id               event            timestamp    mp_os mp_app_version  \\\n",
       "0   576409      StartLoanApply  2022-03-25 11:12:09  Android          3.8.2   \n",
       "1   576409  ViewLoanApplyIntro  2022-03-25 11:12:09  Android          3.8.2   \n",
       "2    72878        EndLoanApply  2022-03-25 11:14:44  Android          3.8.4   \n",
       "3   645317             OpenApp  2022-03-25 11:15:09      iOS          3.6.1   \n",
       "4   645317       UseLoanManage  2022-03-25 11:15:11      iOS          3.6.1   \n",
       "\n",
       "      date_cd  \n",
       "0  2022-03-25  \n",
       "1  2022-03-25  \n",
       "2  2022-03-25  \n",
       "3  2022-03-25  \n",
       "4  2022-03-25  "
      ]
     },
     "execution_count": 6,
     "metadata": {},
     "output_type": "execute_result"
    }
   ],
   "source": [
    "log_data.head()"
   ]
  },
  {
   "cell_type": "code",
   "execution_count": 7,
   "metadata": {
    "collapsed": true
   },
   "outputs": [
    {
     "name": "stdout",
     "output_type": "stream",
     "text": [
      "<class 'pandas.core.frame.DataFrame'>\n",
      "RangeIndex: 17843993 entries, 0 to 17843992\n",
      "Data columns (total 6 columns):\n",
      " #   Column          Dtype \n",
      "---  ------          ----- \n",
      " 0   user_id         int64 \n",
      " 1   event           object\n",
      " 2   timestamp       object\n",
      " 3   mp_os           object\n",
      " 4   mp_app_version  object\n",
      " 5   date_cd         object\n",
      "dtypes: int64(1), object(5)\n",
      "memory usage: 816.8+ MB\n"
     ]
    }
   ],
   "source": [
    "log_data.info()"
   ]
  },
  {
   "cell_type": "markdown",
   "metadata": {},
   "source": [
    "### 1-1 user_spec 데이터셋 분포 확인\n",
    "> 수치형 변수 히스토그램"
   ]
  },
  {
   "cell_type": "code",
   "execution_count": 8,
   "metadata": {
    "collapsed": true
   },
   "outputs": [
    {
     "data": {
      "text/plain": [
       "array([[<AxesSubplot:title={'center':'application_id'}>,\n",
       "        <AxesSubplot:title={'center':'user_id'}>,\n",
       "        <AxesSubplot:title={'center':'birth_year'}>],\n",
       "       [<AxesSubplot:title={'center':'gender'}>,\n",
       "        <AxesSubplot:title={'center':'credit_score'}>,\n",
       "        <AxesSubplot:title={'center':'yearly_income'}>],\n",
       "       [<AxesSubplot:title={'center':'company_enter_month'}>,\n",
       "        <AxesSubplot:title={'center':'desired_amount'}>,\n",
       "        <AxesSubplot:title={'center':'personal_rehabilitation_yn'}>],\n",
       "       [<AxesSubplot:title={'center':'personal_rehabilitation_complete_yn'}>,\n",
       "        <AxesSubplot:title={'center':'existing_loan_cnt'}>,\n",
       "        <AxesSubplot:title={'center':'existing_loan_amt'}>]], dtype=object)"
      ]
     },
     "execution_count": 8,
     "metadata": {},
     "output_type": "execute_result"
    },
    {
     "data": {
      "image/png": "[encoded data removed]",
      "text/plain": [
       "<Figure size 1152x1152 with 12 Axes>"
      ]
     },
     "metadata": {
      "needs_background": "light"
     },
     "output_type": "display_data"
    }
   ],
   "source": [
    "user_spec.hist(figsize=(16,16))"
   ]
  },
  {
   "cell_type": "markdown",
   "metadata": {},
   "source": [
    "\n",
    "> 연속형 변수 분포 확인"
   ]
  },
  {
   "cell_type": "code",
   "execution_count": 9,
   "metadata": {
    "collapsed": true
   },
   "outputs": [
    {
     "name": "stdout",
     "output_type": "stream",
     "text": [
      "['PRIVATEBUSINESS' 'FREELANCER' 'EARNEDINCOME' 'OTHERINCOME'\n",
      " 'EARNEDINCOME2' 'PRACTITIONER' nan]\n",
      "EARNEDINCOME       892579\n",
      "OTHERINCOME        172600\n",
      "PRIVATEBUSINESS    126108\n",
      "FREELANCER         103913\n",
      "EARNEDINCOME2       78806\n",
      "PRACTITIONER        20125\n",
      "Name: income_type, dtype: int64\n"
     ]
    }
   ],
   "source": [
    "print(user_spec['income_type'].unique())\n",
    "print(user_spec['income_type'].value_counts())"
   ]
  },
  {
   "cell_type": "code",
   "execution_count": 10,
   "metadata": {
    "collapsed": true
   },
   "outputs": [
    {
     "data": {
      "text/plain": [
       "(array([0, 1, 2, 3, 4, 5]),\n",
       " [Text(0, 0, 'EARNEDINCOME'),\n",
       "  Text(1, 0, 'OTHERINCOME'),\n",
       "  Text(2, 0, 'PRIVATEBUSINESS'),\n",
       "  Text(3, 0, 'FREELANCER'),\n",
       "  Text(4, 0, 'EARNEDINCOME2'),\n",
       "  Text(5, 0, 'PRACTITIONER')])"
      ]
     },
     "execution_count": 10,
     "metadata": {},
     "output_type": "execute_result"
    },
    {
     "data": {
      "image/png": "[encoded data removed]",
      "text/plain": [
       "<Figure size 432x288 with 1 Axes>"
      ]
     },
     "metadata": {
      "needs_background": "light"
     },
     "output_type": "display_data"
    }
   ],
   "source": [
    "\n",
    "income= pd.value_counts(user_spec['income_type'].values, sort=True)\n",
    "income.plot.bar()\n",
    "plt.xticks(rotation=25)"
   ]
  },
  {
   "cell_type": "code",
   "execution_count": 11,
   "metadata": {
    "collapsed": true
   },
   "outputs": [
    {
     "name": "stdout",
     "output_type": "stream",
     "text": [
      "['기타' '정규직' '계약직' '일용직' nan]\n",
      "정규직    918032\n",
      "기타     345801\n",
      "계약직    111445\n",
      "일용직     18853\n",
      "Name: employment_type, dtype: int64\n"
     ]
    }
   ],
   "source": [
    "print(user_spec['employment_type'].unique())\n",
    "print(user_spec['employment_type'].value_counts())"
   ]
  },
  {
   "cell_type": "code",
   "execution_count": 12,
   "metadata": {
    "collapsed": true
   },
   "outputs": [
    {
     "data": {
      "text/plain": [
       "(array([0, 1, 2, 3]),\n",
       " [Text(0, 0, '정규직'), Text(1, 0, '기타'), Text(2, 0, '계약직'), Text(3, 0, '일용직')])"
      ]
     },
     "execution_count": 12,
     "metadata": {},
     "output_type": "execute_result"
    },
    {
     "data": {
      "image/png": "[encoded data removed]",
      "text/plain": [
       "<Figure size 432x288 with 1 Axes>"
      ]
     },
     "metadata": {
      "needs_background": "light"
     },
     "output_type": "display_data"
    }
   ],
   "source": [
    "employ= pd.value_counts(user_spec['employment_type'].values, sort=True)\n",
    "employ.plot.bar()\n",
    "plt.xticks(rotation=25)"
   ]
  },
  {
   "cell_type": "code",
   "execution_count": 13,
   "metadata": {
    "collapsed": true
   },
   "outputs": [
    {
     "name": "stdout",
     "output_type": "stream",
     "text": [
      "['자가' '기타가족소유' '전월세' '배우자' nan]\n",
      "전월세       642838\n",
      "기타가족소유    465893\n",
      "자가        283454\n",
      "배우자         1946\n",
      "Name: houseown_type, dtype: int64\n"
     ]
    }
   ],
   "source": [
    "print(user_spec['houseown_type'].unique())\n",
    "print(user_spec['houseown_type'].value_counts())"
   ]
  },
  {
   "cell_type": "code",
   "execution_count": 14,
   "metadata": {
    "collapsed": true
   },
   "outputs": [
    {
     "data": {
      "text/plain": [
       "(array([0, 1, 2, 3]),\n",
       " [Text(0, 0, '전월세'),\n",
       "  Text(1, 0, '기타가족소유'),\n",
       "  Text(2, 0, '자가'),\n",
       "  Text(3, 0, '배우자')])"
      ]
     },
     "execution_count": 14,
     "metadata": {},
     "output_type": "execute_result"
    },
    {
     "data": {
      "image/png": "[encoded data removed]",
      "text/plain": [
       "<Figure size 432x288 with 1 Axes>"
      ]
     },
     "metadata": {
      "needs_background": "light"
     },
     "output_type": "display_data"
    }
   ],
   "source": [
    "houseown= pd.value_counts(user_spec['houseown_type'].values, sort=True)\n",
    "houseown.plot.bar()\n",
    "plt.xticks(rotation=25)"
   ]
  },
  {
   "cell_type": "code",
   "execution_count": 15,
   "metadata": {
    "collapsed": true
   },
   "outputs": [
    {
     "name": "stdout",
     "output_type": "stream",
     "text": [
      "['기타' '대환대출' '생활비' '사업자금' '주택구입' '전월세보증금' '투자' 'LIVING' 'SWITCHLOAN' 'ETC'\n",
      " 'INVEST' '자동차구입' 'BUSINESS' 'BUYCAR' nan 'HOUSEDEPOSIT' 'BUYHOUSE']\n",
      "생활비             866079\n",
      "대환대출            353794\n",
      "사업자금             62115\n",
      "기타               30132\n",
      "전월세보증금           27236\n",
      "주택구입             17471\n",
      "LIVING           15432\n",
      "투자               12532\n",
      "자동차구입             3394\n",
      "SWITCHLOAN        3248\n",
      "BUSINESS           935\n",
      "ETC                593\n",
      "HOUSEDEPOSIT       562\n",
      "BUYHOUSE           307\n",
      "INVEST             166\n",
      "BUYCAR             135\n",
      "Name: purpose, dtype: int64\n"
     ]
    }
   ],
   "source": [
    "print(user_spec['purpose'].unique())\n",
    "print(user_spec['purpose'].value_counts())"
   ]
  },
  {
   "cell_type": "markdown",
   "metadata": {},
   "source": [
    "> purpose 컬럼의 경우 동일한 의미의 영문과 한글이 혼재하므로, 영어 -> 한글 표현으로 변경해준다. "
   ]
  },
  {
   "cell_type": "code",
   "execution_count": 16,
   "metadata": {},
   "outputs": [],
   "source": [
    "user_spec = user_spec.replace({'purpose':'LIVING' },'생활비' )\n",
    "user_spec = user_spec.replace({'purpose':'SWITCHLOAN' },'대환대출')\n",
    "user_spec = user_spec.replace({'purpose':'ETC' },'기타' )\n",
    "user_spec = user_spec.replace({'purpose':'INVEST' },'투자' )\n",
    "user_spec = user_spec.replace({'purpose':'BUSINESS' },'사업자금' )\n",
    "user_spec = user_spec.replace({'purpose':'BUYCAR' },'자동차구입' )\n",
    "user_spec = user_spec.replace({'purpose':'HOUSEDEPOSIT' },'전월세보증금' )\n",
    "user_spec = user_spec.replace({'purpose':'BUYHOUSE' },'주택구입' )"
   ]
  },
  {
   "cell_type": "code",
   "execution_count": 17,
   "metadata": {
    "collapsed": true
   },
   "outputs": [
    {
     "data": {
      "text/plain": [
       "(array([0, 1, 2, 3, 4, 5, 6, 7]),\n",
       " [Text(0, 0, '생활비'),\n",
       "  Text(1, 0, '대환대출'),\n",
       "  Text(2, 0, '사업자금'),\n",
       "  Text(3, 0, '기타'),\n",
       "  Text(4, 0, '전월세보증금'),\n",
       "  Text(5, 0, '주택구입'),\n",
       "  Text(6, 0, '투자'),\n",
       "  Text(7, 0, '자동차구입')])"
      ]
     },
     "execution_count": 17,
     "metadata": {},
     "output_type": "execute_result"
    },
    {
     "data": {
      "image/png": "[encoded data removed]",
      "text/plain": [
       "<Figure size 432x288 with 1 Axes>"
      ]
     },
     "metadata": {
      "needs_background": "light"
     },
     "output_type": "display_data"
    }
   ],
   "source": [
    "purpose= pd.value_counts(user_spec['purpose'].values, sort=True)\n",
    "purpose.plot.bar()\n",
    "plt.xticks(rotation=25)"
   ]
  },
  {
   "cell_type": "markdown",
   "metadata": {},
   "source": [
    "> 생활비, 대환대출을 제외한 다른 purpose value -> etc 로 처리한다."
   ]
  },
  {
   "cell_type": "code",
   "execution_count": 18,
   "metadata": {
    "collapsed": true
   },
   "outputs": [
    {
     "data": {
      "text/plain": [
       "생활비       881511\n",
       "대환대출      357042\n",
       "사업자금       63050\n",
       "기타         30725\n",
       "전월세보증금     27798\n",
       "주택구입       17778\n",
       "투자         12698\n",
       "자동차구입       3529\n",
       "Name: purpose, dtype: int64"
      ]
     },
     "execution_count": 18,
     "metadata": {},
     "output_type": "execute_result"
    }
   ],
   "source": [
    "user_spec['purpose'].value_counts()"
   ]
  },
  {
   "cell_type": "markdown",
   "metadata": {},
   "source": [
    "### 1-2 타겟값과 수치형 변수 간 상관관계"
   ]
  },
  {
   "cell_type": "markdown",
   "metadata": {},
   "source": [
    "> user_spec 데이터셋과 loan_result 데이터셋의 타겟값인 'is_applied' 컬럼을 application_id 를 기준으로 join하고, user_spec 데이터셋 내 수치형 컬럼들과 is_applied 컬럼 간의 상관관계를 히트맵을 통해 확인한다."
   ]
  },
  {
   "cell_type": "code",
   "execution_count": 19,
   "metadata": {},
   "outputs": [],
   "source": [
    "is_applied = loan_result[['application_id', 'is_applied']]"
   ]
  },
  {
   "cell_type": "code",
   "execution_count": 20,
   "metadata": {},
   "outputs": [],
   "source": [
    "\n",
    "is_applied = pd.merge(user_spec,is_applied, how='inner', on='application_id' )"
   ]
  },
  {
   "cell_type": "code",
   "execution_count": 21,
   "metadata": {
    "collapsed": true
   },
   "outputs": [
    {
     "data": {
      "text/plain": [
       "[Text(0.5, 1.0, 'HeatMap')]"
      ]
     },
     "execution_count": 21,
     "metadata": {},
     "output_type": "execute_result"
    },
    {
     "data": {
      "image/png": "[encoded data removed]",
      "text/plain": [
       "<Figure size 1080x1080 with 2 Axes>"
      ]
     },
     "metadata": {
      "needs_background": "light"
     },
     "output_type": "display_data"
    }
   ],
   "source": [
    "corrMat = is_applied[['birth_year','gender', 'credit_score', 'yearly_income', \n",
    "                      'company_enter_month', 'desired_amount', 'personal_rehabilitation_yn', \n",
    "                      'personal_rehabilitation_complete_yn', 'existing_loan_cnt', 'existing_loan_amt','is_applied']].corr()\n",
    "\n",
    "fig, ax = plt.subplots()\n",
    "fig.set_size_inches(15,15)\n",
    "plt.xticks(rotation=-45)\n",
    "sns.heatmap(corrMat, annot=True)\n",
    "ax.set(title='HeatMap')"
   ]
  },
  {
   "cell_type": "markdown",
   "metadata": {},
   "source": [
    "\n",
    "## 2. 파생변수 생성 [user_spec]"
   ]
  },
  {
   "cell_type": "markdown",
   "metadata": {},
   "source": [
    "### 2-1. age_cat"
   ]
  },
  {
   "cell_type": "code",
   "execution_count": 22,
   "metadata": {},
   "outputs": [],
   "source": [
    "\n",
    "user_spec['age'] = 2022 -user_spec['birth_year']\n",
    "\n",
    "#나잇대로 변환\n",
    "def age_categorize(age):\n",
    "  age = (age//10)*10\n",
    "  return age\n",
    "age_cat = user_spec['age'].apply(age_categorize)\n",
    "age_cat = age_cat.astype('category')\n",
    "user_spec.insert(6, 'age_cat', age_cat)"
   ]
  },
  {
   "cell_type": "code",
   "execution_count": 23,
   "metadata": {
    "collapsed": true
   },
   "outputs": [
    {
     "data": {
      "text/plain": [
       "<AxesSubplot:xlabel='age_cat', ylabel='Density'>"
      ]
     },
     "execution_count": 23,
     "metadata": {},
     "output_type": "execute_result"
    },
    {
     "data": {
      "image/png": "[encoded data removed]",
      "text/plain": [
       "<Figure size 432x288 with 1 Axes>"
      ]
     },
     "metadata": {
      "needs_background": "light"
     },
     "output_type": "display_data"
    }
   ],
   "source": [
    "sns.distplot(user_spec['age_cat'])"
   ]
  },
  {
   "cell_type": "markdown",
   "metadata": {},
   "source": [
    "### 2-2. work_year"
   ]
  },
  {
   "cell_type": "code",
   "execution_count": 24,
   "metadata": {},
   "outputs": [],
   "source": [
    "user_spec['company_enter_month'] = user_spec['company_enter_month'].astype('str')\n",
    "user_spec['company_enter_month'] = user_spec['company_enter_month'].str[0:4]\n",
    "user_spec['company_enter_month'] = pd.to_datetime(user_spec['company_enter_month'])\n",
    "user_spec['company_enter_year'] = user_spec['company_enter_month'].dt.year\n",
    "user_spec['work_year'] = 2022 -user_spec['company_enter_year']"
   ]
  },
  {
   "cell_type": "code",
   "execution_count": 25,
   "metadata": {
    "collapsed": true
   },
   "outputs": [
    {
     "data": {
      "text/plain": [
       "<AxesSubplot:xlabel='work_year', ylabel='Density'>"
      ]
     },
     "execution_count": 25,
     "metadata": {},
     "output_type": "execute_result"
    },
    {
     "data": {
      "image/png": "[encoded data removed]",
      "text/plain": [
       "<Figure size 432x288 with 1 Axes>"
      ]
     },
     "metadata": {
      "needs_background": "light"
     },
     "output_type": "display_data"
    }
   ],
   "source": [
    "sns.distplot(user_spec['work_year'])"
   ]
  },
  {
   "cell_type": "markdown",
   "metadata": {},
   "source": [
    "### 2-3. score_type"
   ]
  },
  {
   "cell_type": "code",
   "execution_count": 26,
   "metadata": {},
   "outputs": [],
   "source": [
    "def score_categorize(credit_score):\n",
    "    cat =''\n",
    "    if credit_score <=334 : cat = '10'\n",
    "    elif credit_score <=453 : cat = '9'\n",
    "    elif credit_score <=529 : cat = '8'\n",
    "    elif credit_score <=629 : cat = '7'\n",
    "    elif credit_score <=697 : cat = '6'\n",
    "    elif credit_score <=767 : cat ='5'\n",
    "    elif credit_score <=831 : cat = '4'\n",
    "    elif credit_score <=890 : cat = '3'\n",
    "    elif credit_score <=941 : cat = '2'\n",
    "    else : cat ='1'\n",
    "    \n",
    "    return cat\n",
    "\n",
    "user_spec['score_type'] = user_spec['credit_score'].apply(lambda x : score_categorize(x))"
   ]
  },
  {
   "cell_type": "code",
   "execution_count": 27,
   "metadata": {
    "collapsed": true
   },
   "outputs": [
    {
     "data": {
      "text/plain": [
       "<AxesSubplot:xlabel='score_type', ylabel='Density'>"
      ]
     },
     "execution_count": 27,
     "metadata": {},
     "output_type": "execute_result"
    },
    {
     "data": {
      "image/png": "[encoded data removed]",
      "text/plain": [
       "<Figure size 432x288 with 1 Axes>"
      ]
     },
     "metadata": {
      "needs_background": "light"
     },
     "output_type": "display_data"
    }
   ],
   "source": [
    "sns.distplot(user_spec['score_type'])"
   ]
  },
  {
   "cell_type": "markdown",
   "metadata": {},
   "source": [
    "\n",
    "\n",
    "\n",
    "\n",
    "### 2-4. 기존변수들 삭제"
   ]
  },
  {
   "cell_type": "code",
   "execution_count": 28,
   "metadata": {},
   "outputs": [],
   "source": [
    "user_spec.drop(['birth_year', 'age', 'company_enter_month', 'company_enter_year', 'credit_score'],axis=1, inplace=True)"
   ]
  },
  {
   "cell_type": "markdown",
   "metadata": {},
   "source": [
    "## 3. 결측치 처리"
   ]
  },
  {
   "cell_type": "markdown",
   "metadata": {},
   "source": [
    "### 3-1. 결측치 확인"
   ]
  },
  {
   "cell_type": "code",
   "execution_count": 29,
   "metadata": {
    "collapsed": true
   },
   "outputs": [
    {
     "data": {
      "text/plain": [
       "application_id                         0.00\n",
       "user_id                                0.00\n",
       "gender                                 0.01\n",
       "insert_time                            0.00\n",
       "age_cat                                0.01\n",
       "yearly_income                          0.00\n",
       "income_type                            0.00\n",
       "employment_type                        0.00\n",
       "houseown_type                          0.00\n",
       "desired_amount                         0.00\n",
       "purpose                                0.00\n",
       "personal_rehabilitation_yn             0.42\n",
       "personal_rehabilitation_complete_yn    0.86\n",
       "existing_loan_cnt                      0.14\n",
       "existing_loan_amt                      0.23\n",
       "work_year                              0.12\n",
       "score_type                             0.00\n",
       "dtype: float64"
      ]
     },
     "execution_count": 29,
     "metadata": {},
     "output_type": "execute_result"
    }
   ],
   "source": [
    "(user_spec.isnull().sum()/len(user_spec)).round(2)"
   ]
  },
  {
   "cell_type": "markdown",
   "metadata": {},
   "source": [
    "### 3-2. personal_rehabilitation_yn & personal_rehabilitation_complete_yn"
   ]
  },
  {
   "cell_type": "code",
   "execution_count": 30,
   "metadata": {},
   "outputs": [],
   "source": [
    "user_spec['personal_rehabilitation_yn'] = user_spec['personal_rehabilitation_yn'].fillna(0)\n",
    "user_spec.loc[user_spec['personal_rehabilitation_yn']==0, 'personal_rehabilitation_complete_yn']=99"
   ]
  },
  {
   "cell_type": "code",
   "execution_count": 31,
   "metadata": {
    "collapsed": true
   },
   "outputs": [
    {
     "data": {
      "text/plain": [
       "application_id                         0.00\n",
       "user_id                                0.00\n",
       "gender                                 0.01\n",
       "insert_time                            0.00\n",
       "age_cat                                0.01\n",
       "yearly_income                          0.00\n",
       "income_type                            0.00\n",
       "employment_type                        0.00\n",
       "houseown_type                          0.00\n",
       "desired_amount                         0.00\n",
       "purpose                                0.00\n",
       "personal_rehabilitation_yn             0.00\n",
       "personal_rehabilitation_complete_yn    0.00\n",
       "existing_loan_cnt                      0.14\n",
       "existing_loan_amt                      0.23\n",
       "work_year                              0.12\n",
       "score_type                             0.00\n",
       "dtype: float64"
      ]
     },
     "execution_count": 31,
     "metadata": {},
     "output_type": "execute_result"
    }
   ],
   "source": [
    "(user_spec.isnull().sum()/len(user_spec)).round(2)"
   ]
  },
  {
   "cell_type": "markdown",
   "metadata": {},
   "source": [
    "### 3-3. 결측치 1% 컬럼 dropna"
   ]
  },
  {
   "cell_type": "code",
   "execution_count": 32,
   "metadata": {},
   "outputs": [],
   "source": [
    "user_spec = user_spec.dropna(subset =['gender', 'age_cat'])"
   ]
  },
  {
   "cell_type": "code",
   "execution_count": 33,
   "metadata": {
    "collapsed": true
   },
   "outputs": [
    {
     "data": {
      "text/plain": [
       "application_id                         0.00\n",
       "user_id                                0.00\n",
       "gender                                 0.00\n",
       "insert_time                            0.00\n",
       "age_cat                                0.00\n",
       "yearly_income                          0.00\n",
       "income_type                            0.00\n",
       "employment_type                        0.00\n",
       "houseown_type                          0.00\n",
       "desired_amount                         0.00\n",
       "purpose                                0.00\n",
       "personal_rehabilitation_yn             0.00\n",
       "personal_rehabilitation_complete_yn    0.00\n",
       "existing_loan_cnt                      0.14\n",
       "existing_loan_amt                      0.22\n",
       "work_year                              0.12\n",
       "score_type                             0.00\n",
       "dtype: float64"
      ]
     },
     "execution_count": 33,
     "metadata": {},
     "output_type": "execute_result"
    }
   ],
   "source": [
    "(user_spec.isnull().sum()/len(user_spec)).round(2)"
   ]
  },
  {
   "cell_type": "markdown",
   "metadata": {},
   "source": [
    "### 3-4. Simple- imputer 적용"
   ]
  },
  {
   "cell_type": "markdown",
   "metadata": {},
   "source": [
    "> 모델링을 통한 보간을 진행하기에 앞서 모든 컬럼들에 대해 원핫 인코딩을 진행해준다."
   ]
  },
  {
   "cell_type": "code",
   "execution_count": 34,
   "metadata": {},
   "outputs": [],
   "source": [
    "user_spec = pd.get_dummies(user_spec, columns=['income_type', 'employment_type', 'houseown_type', 'purpose'], drop_first=True)"
   ]
  },
  {
   "cell_type": "code",
   "execution_count": 35,
   "metadata": {
    "collapsed": true
   },
   "outputs": [
    {
     "name": "stdout",
     "output_type": "stream",
     "text": [
      "<class 'pandas.core.frame.DataFrame'>\n",
      "Int64Index: 1381255 entries, 0 to 1394215\n",
      "Data columns (total 31 columns):\n",
      " #   Column                               Non-Null Count    Dtype   \n",
      "---  ------                               --------------    -----   \n",
      " 0   application_id                       1381255 non-null  int64   \n",
      " 1   user_id                              1381255 non-null  int64   \n",
      " 2   gender                               1381255 non-null  float64 \n",
      " 3   insert_time                          1381255 non-null  object  \n",
      " 4   age_cat                              1381255 non-null  category\n",
      " 5   yearly_income                        1381167 non-null  float64 \n",
      " 6   desired_amount                       1381172 non-null  float64 \n",
      " 7   personal_rehabilitation_yn           1381255 non-null  float64 \n",
      " 8   personal_rehabilitation_complete_yn  1381255 non-null  float64 \n",
      " 9   existing_loan_cnt                    1187944 non-null  float64 \n",
      " 10  existing_loan_amt                    1073618 non-null  float64 \n",
      " 11  work_year                            1212449 non-null  float64 \n",
      " 12  score_type                           1381255 non-null  object  \n",
      " 13  income_type_EARNEDINCOME2            1381255 non-null  uint8   \n",
      " 14  income_type_FREELANCER               1381255 non-null  uint8   \n",
      " 15  income_type_OTHERINCOME              1381255 non-null  uint8   \n",
      " 16  income_type_PRACTITIONER             1381255 non-null  uint8   \n",
      " 17  income_type_PRIVATEBUSINESS          1381255 non-null  uint8   \n",
      " 18  employment_type_기타                   1381255 non-null  uint8   \n",
      " 19  employment_type_일용직                  1381255 non-null  uint8   \n",
      " 20  employment_type_정규직                  1381255 non-null  uint8   \n",
      " 21  houseown_type_배우자                    1381255 non-null  uint8   \n",
      " 22  houseown_type_자가                     1381255 non-null  uint8   \n",
      " 23  houseown_type_전월세                    1381255 non-null  uint8   \n",
      " 24  purpose_대환대출                         1381255 non-null  uint8   \n",
      " 25  purpose_사업자금                         1381255 non-null  uint8   \n",
      " 26  purpose_생활비                          1381255 non-null  uint8   \n",
      " 27  purpose_자동차구입                        1381255 non-null  uint8   \n",
      " 28  purpose_전월세보증금                       1381255 non-null  uint8   \n",
      " 29  purpose_주택구입                         1381255 non-null  uint8   \n",
      " 30  purpose_투자                           1381255 non-null  uint8   \n",
      "dtypes: category(1), float64(8), int64(2), object(2), uint8(18)\n",
      "memory usage: 162.0+ MB\n"
     ]
    }
   ],
   "source": [
    "user_spec.info()"
   ]
  },
  {
   "cell_type": "markdown",
   "metadata": {},
   "source": [
    "> 모델링을 적용한다."
   ]
  },
  {
   "cell_type": "code",
   "execution_count": 36,
   "metadata": {},
   "outputs": [],
   "source": [
    "from sklearn.experimental import enable_iterative_imputer\n",
    "from sklearn.impute import IterativeImputer"
   ]
  },
  {
   "cell_type": "code",
   "execution_count": 37,
   "metadata": {},
   "outputs": [],
   "source": [
    "X = user_spec[user_spec.columns.difference(['user_id','insert_time'])]"
   ]
  },
  {
   "cell_type": "code",
   "execution_count": 38,
   "metadata": {
    "collapsed": true
   },
   "outputs": [
    {
     "name": "stdout",
     "output_type": "stream",
     "text": [
      "<class 'pandas.core.frame.DataFrame'>\n",
      "Int64Index: 1381255 entries, 0 to 1394215\n",
      "Data columns (total 29 columns):\n",
      " #   Column                               Non-Null Count    Dtype   \n",
      "---  ------                               --------------    -----   \n",
      " 0   age_cat                              1381255 non-null  category\n",
      " 1   application_id                       1381255 non-null  int64   \n",
      " 2   desired_amount                       1381172 non-null  float64 \n",
      " 3   employment_type_기타                   1381255 non-null  uint8   \n",
      " 4   employment_type_일용직                  1381255 non-null  uint8   \n",
      " 5   employment_type_정규직                  1381255 non-null  uint8   \n",
      " 6   existing_loan_amt                    1073618 non-null  float64 \n",
      " 7   existing_loan_cnt                    1187944 non-null  float64 \n",
      " 8   gender                               1381255 non-null  float64 \n",
      " 9   houseown_type_배우자                    1381255 non-null  uint8   \n",
      " 10  houseown_type_자가                     1381255 non-null  uint8   \n",
      " 11  houseown_type_전월세                    1381255 non-null  uint8   \n",
      " 12  income_type_EARNEDINCOME2            1381255 non-null  uint8   \n",
      " 13  income_type_FREELANCER               1381255 non-null  uint8   \n",
      " 14  income_type_OTHERINCOME              1381255 non-null  uint8   \n",
      " 15  income_type_PRACTITIONER             1381255 non-null  uint8   \n",
      " 16  income_type_PRIVATEBUSINESS          1381255 non-null  uint8   \n",
      " 17  personal_rehabilitation_complete_yn  1381255 non-null  float64 \n",
      " 18  personal_rehabilitation_yn           1381255 non-null  float64 \n",
      " 19  purpose_대환대출                         1381255 non-null  uint8   \n",
      " 20  purpose_사업자금                         1381255 non-null  uint8   \n",
      " 21  purpose_생활비                          1381255 non-null  uint8   \n",
      " 22  purpose_자동차구입                        1381255 non-null  uint8   \n",
      " 23  purpose_전월세보증금                       1381255 non-null  uint8   \n",
      " 24  purpose_주택구입                         1381255 non-null  uint8   \n",
      " 25  purpose_투자                           1381255 non-null  uint8   \n",
      " 26  score_type                           1381255 non-null  object  \n",
      " 27  work_year                            1212449 non-null  float64 \n",
      " 28  yearly_income                        1381167 non-null  float64 \n",
      "dtypes: category(1), float64(8), int64(1), object(1), uint8(18)\n",
      "memory usage: 140.9+ MB\n"
     ]
    }
   ],
   "source": [
    "X.info()"
   ]
  },
  {
   "cell_type": "code",
   "execution_count": 39,
   "metadata": {},
   "outputs": [],
   "source": [
    "imputer = IterativeImputer(max_iter = 10, random_state = 0)\n",
    "\n",
    "output = imputer.fit_transform(X)\n"
   ]
  },
  {
   "cell_type": "code",
   "execution_count": 40,
   "metadata": {},
   "outputs": [],
   "source": [
    "output = pd.DataFrame(output, columns=X.columns, index=list(X.index.values))\n",
    "user_spec_2 = pd.merge(output, user_spec, how='inner', on='application_id')"
   ]
  },
  {
   "cell_type": "code",
   "execution_count": 41,
   "metadata": {
    "collapsed": true
   },
   "outputs": [
    {
     "name": "stdout",
     "output_type": "stream",
     "text": [
      "<class 'pandas.core.frame.DataFrame'>\n",
      "Int64Index: 1381255 entries, 0 to 1381254\n",
      "Data columns (total 59 columns):\n",
      " #   Column                                 Non-Null Count    Dtype   \n",
      "---  ------                                 --------------    -----   \n",
      " 0   age_cat_x                              1381255 non-null  float64 \n",
      " 1   application_id                         1381255 non-null  float64 \n",
      " 2   desired_amount_x                       1381255 non-null  float64 \n",
      " 3   employment_type_기타_x                   1381255 non-null  float64 \n",
      " 4   employment_type_일용직_x                  1381255 non-null  float64 \n",
      " 5   employment_type_정규직_x                  1381255 non-null  float64 \n",
      " 6   existing_loan_amt_x                    1381255 non-null  float64 \n",
      " 7   existing_loan_cnt_x                    1381255 non-null  float64 \n",
      " 8   gender_x                               1381255 non-null  float64 \n",
      " 9   houseown_type_배우자_x                    1381255 non-null  float64 \n",
      " 10  houseown_type_자가_x                     1381255 non-null  float64 \n",
      " 11  houseown_type_전월세_x                    1381255 non-null  float64 \n",
      " 12  income_type_EARNEDINCOME2_x            1381255 non-null  float64 \n",
      " 13  income_type_FREELANCER_x               1381255 non-null  float64 \n",
      " 14  income_type_OTHERINCOME_x              1381255 non-null  float64 \n",
      " 15  income_type_PRACTITIONER_x             1381255 non-null  float64 \n",
      " 16  income_type_PRIVATEBUSINESS_x          1381255 non-null  float64 \n",
      " 17  personal_rehabilitation_complete_yn_x  1381255 non-null  float64 \n",
      " 18  personal_rehabilitation_yn_x           1381255 non-null  float64 \n",
      " 19  purpose_대환대출_x                         1381255 non-null  float64 \n",
      " 20  purpose_사업자금_x                         1381255 non-null  float64 \n",
      " 21  purpose_생활비_x                          1381255 non-null  float64 \n",
      " 22  purpose_자동차구입_x                        1381255 non-null  float64 \n",
      " 23  purpose_전월세보증금_x                       1381255 non-null  float64 \n",
      " 24  purpose_주택구입_x                         1381255 non-null  float64 \n",
      " 25  purpose_투자_x                           1381255 non-null  float64 \n",
      " 26  score_type_x                           1381255 non-null  float64 \n",
      " 27  work_year_x                            1381255 non-null  float64 \n",
      " 28  yearly_income_x                        1381255 non-null  float64 \n",
      " 29  user_id                                1381255 non-null  int64   \n",
      " 30  gender_y                               1381255 non-null  float64 \n",
      " 31  insert_time                            1381255 non-null  object  \n",
      " 32  age_cat_y                              1381255 non-null  category\n",
      " 33  yearly_income_y                        1381167 non-null  float64 \n",
      " 34  desired_amount_y                       1381172 non-null  float64 \n",
      " 35  personal_rehabilitation_yn_y           1381255 non-null  float64 \n",
      " 36  personal_rehabilitation_complete_yn_y  1381255 non-null  float64 \n",
      " 37  existing_loan_cnt_y                    1187944 non-null  float64 \n",
      " 38  existing_loan_amt_y                    1073618 non-null  float64 \n",
      " 39  work_year_y                            1212449 non-null  float64 \n",
      " 40  score_type_y                           1381255 non-null  object  \n",
      " 41  income_type_EARNEDINCOME2_y            1381255 non-null  uint8   \n",
      " 42  income_type_FREELANCER_y               1381255 non-null  uint8   \n",
      " 43  income_type_OTHERINCOME_y              1381255 non-null  uint8   \n",
      " 44  income_type_PRACTITIONER_y             1381255 non-null  uint8   \n",
      " 45  income_type_PRIVATEBUSINESS_y          1381255 non-null  uint8   \n",
      " 46  employment_type_기타_y                   1381255 non-null  uint8   \n",
      " 47  employment_type_일용직_y                  1381255 non-null  uint8   \n",
      " 48  employment_type_정규직_y                  1381255 non-null  uint8   \n",
      " 49  houseown_type_배우자_y                    1381255 non-null  uint8   \n",
      " 50  houseown_type_자가_y                     1381255 non-null  uint8   \n",
      " 51  houseown_type_전월세_y                    1381255 non-null  uint8   \n",
      " 52  purpose_대환대출_y                         1381255 non-null  uint8   \n",
      " 53  purpose_사업자금_y                         1381255 non-null  uint8   \n",
      " 54  purpose_생활비_y                          1381255 non-null  uint8   \n",
      " 55  purpose_자동차구입_y                        1381255 non-null  uint8   \n",
      " 56  purpose_전월세보증금_y                       1381255 non-null  uint8   \n",
      " 57  purpose_주택구입_y                         1381255 non-null  uint8   \n",
      " 58  purpose_투자_y                           1381255 non-null  uint8   \n",
      "dtypes: category(1), float64(37), int64(1), object(2), uint8(18)\n",
      "memory usage: 457.1+ MB\n"
     ]
    }
   ],
   "source": [
    "user_spec_2.info()"
   ]
  },
  {
   "cell_type": "code",
   "execution_count": 42,
   "metadata": {
    "collapsed": true
   },
   "outputs": [
    {
     "data": {
      "text/plain": [
       "Index(['age_cat_x', 'application_id', 'desired_amount_x',\n",
       "       'employment_type_기타_x', 'employment_type_일용직_x',\n",
       "       'employment_type_정규직_x', 'existing_loan_amt_x', 'existing_loan_cnt_x',\n",
       "       'gender_x', 'houseown_type_배우자_x', 'houseown_type_자가_x',\n",
       "       'houseown_type_전월세_x', 'income_type_EARNEDINCOME2_x',\n",
       "       'income_type_FREELANCER_x', 'income_type_OTHERINCOME_x',\n",
       "       'income_type_PRACTITIONER_x', 'income_type_PRIVATEBUSINESS_x',\n",
       "       'personal_rehabilitation_complete_yn_x', 'personal_rehabilitation_yn_x',\n",
       "       'purpose_대환대출_x', 'purpose_사업자금_x', 'purpose_생활비_x', 'purpose_자동차구입_x',\n",
       "       'purpose_전월세보증금_x', 'purpose_주택구입_x', 'purpose_투자_x', 'score_type_x',\n",
       "       'work_year_x', 'yearly_income_x', 'user_id', 'gender_y', 'insert_time',\n",
       "       'age_cat_y', 'yearly_income_y', 'desired_amount_y',\n",
       "       'personal_rehabilitation_yn_y', 'personal_rehabilitation_complete_yn_y',\n",
       "       'existing_loan_cnt_y', 'existing_loan_amt_y', 'work_year_y',\n",
       "       'score_type_y', 'income_type_EARNEDINCOME2_y',\n",
       "       'income_type_FREELANCER_y', 'income_type_OTHERINCOME_y',\n",
       "       'income_type_PRACTITIONER_y', 'income_type_PRIVATEBUSINESS_y',\n",
       "       'employment_type_기타_y', 'employment_type_일용직_y',\n",
       "       'employment_type_정규직_y', 'houseown_type_배우자_y', 'houseown_type_자가_y',\n",
       "       'houseown_type_전월세_y', 'purpose_대환대출_y', 'purpose_사업자금_y',\n",
       "       'purpose_생활비_y', 'purpose_자동차구입_y', 'purpose_전월세보증금_y',\n",
       "       'purpose_주택구입_y', 'purpose_투자_y'],\n",
       "      dtype='object')"
      ]
     },
     "execution_count": 42,
     "metadata": {},
     "output_type": "execute_result"
    }
   ],
   "source": [
    "user_spec_2.columns"
   ]
  },
  {
   "cell_type": "code",
   "execution_count": 45,
   "metadata": {},
   "outputs": [],
   "source": [
    "user_spec_2.drop([ 'gender_y',\n",
    "       'age_cat_y', 'yearly_income_y', 'desired_amount_y',\n",
    "       'personal_rehabilitation_yn_y', 'personal_rehabilitation_complete_yn_y',\n",
    "       'existing_loan_cnt_y', 'existing_loan_amt_y', 'work_year_y',\n",
    "       'score_type_y', 'income_type_EARNEDINCOME2_y',\n",
    "       'income_type_FREELANCER_y', 'income_type_OTHERINCOME_y',\n",
    "       'income_type_PRACTITIONER_y', 'income_type_PRIVATEBUSINESS_y',\n",
    "       'employment_type_기타_y', 'employment_type_일용직_y',\n",
    "       'employment_type_정규직_y', 'houseown_type_배우자_y', 'houseown_type_자가_y',\n",
    "       'houseown_type_전월세_y', 'purpose_대환대출_y',\n",
    "       'purpose_생활비_y'],axis=1, inplace=True)"
   ]
  },
  {
   "cell_type": "code",
   "execution_count": 47,
   "metadata": {},
   "outputs": [],
   "source": [
    "user_spec_2.drop([ 'purpose_사업자금_y', 'purpose_자동차구입_y', 'purpose_전월세보증금_y',\n",
    "       'purpose_주택구입_y', 'purpose_투자_y'],axis=1, inplace=True)"
   ]
  },
  {
   "cell_type": "code",
   "execution_count": 48,
   "metadata": {
    "collapsed": true
   },
   "outputs": [
    {
     "data": {
      "text/plain": [
       "Index(['age_cat_x', 'application_id', 'desired_amount_x',\n",
       "       'employment_type_기타_x', 'employment_type_일용직_x',\n",
       "       'employment_type_정규직_x', 'existing_loan_amt_x', 'existing_loan_cnt_x',\n",
       "       'gender_x', 'houseown_type_배우자_x', 'houseown_type_자가_x',\n",
       "       'houseown_type_전월세_x', 'income_type_EARNEDINCOME2_x',\n",
       "       'income_type_FREELANCER_x', 'income_type_OTHERINCOME_x',\n",
       "       'income_type_PRACTITIONER_x', 'income_type_PRIVATEBUSINESS_x',\n",
       "       'personal_rehabilitation_complete_yn_x', 'personal_rehabilitation_yn_x',\n",
       "       'purpose_대환대출_x', 'purpose_사업자금_x', 'purpose_생활비_x', 'purpose_자동차구입_x',\n",
       "       'purpose_전월세보증금_x', 'purpose_주택구입_x', 'purpose_투자_x', 'score_type_x',\n",
       "       'work_year_x', 'yearly_income_x', 'user_id', 'insert_time'],\n",
       "      dtype='object')"
      ]
     },
     "execution_count": 48,
     "metadata": {},
     "output_type": "execute_result"
    }
   ],
   "source": [
    "user_spec_2.columns"
   ]
  },
  {
   "cell_type": "code",
   "execution_count": 50,
   "metadata": {},
   "outputs": [],
   "source": [
    "user_spec_2.columns=['age_cat', 'application_id', 'desired_amount',\n",
    "       'employment_type_기타', 'employment_type_일용직',\n",
    "       'employment_type_정규직', 'existing_loan_amt', 'existing_loan_cnt',\n",
    "       'gender', 'houseown_type_배우자', 'houseown_type_자가',\n",
    "       'houseown_type_전월세', 'income_type_EARNEDINCOME2',\n",
    "       'income_type_FREELANCER', 'income_type_OTHERINCOME',\n",
    "       'income_type_PRACTITIONER', 'income_type_PRIVATEBUSINESS',\n",
    "       'personal_rehabilitation_complete_yn', 'personal_rehabilitation_yn',\n",
    "       'purpose_대환대출', 'purpose_사업자금', 'purpose_생활비', 'purpose_자동차구입',\n",
    "       'purpose_전월세보증금', 'purpose_주택구입', 'purpose_투자', 'score_type',\n",
    "       'work_year', 'yearly_income', 'user_id', 'insert_time']"
   ]
  },
  {
   "cell_type": "code",
   "execution_count": 51,
   "metadata": {
    "collapsed": true
   },
   "outputs": [
    {
     "name": "stdout",
     "output_type": "stream",
     "text": [
      "<class 'pandas.core.frame.DataFrame'>\n",
      "Int64Index: 1381255 entries, 0 to 1381254\n",
      "Data columns (total 31 columns):\n",
      " #   Column                               Non-Null Count    Dtype  \n",
      "---  ------                               --------------    -----  \n",
      " 0   age_cat                              1381255 non-null  float64\n",
      " 1   application_id                       1381255 non-null  float64\n",
      " 2   desired_amount                       1381255 non-null  float64\n",
      " 3   employment_type_기타                   1381255 non-null  float64\n",
      " 4   employment_type_일용직                  1381255 non-null  float64\n",
      " 5   employment_type_정규직                  1381255 non-null  float64\n",
      " 6   existing_loan_amt                    1381255 non-null  float64\n",
      " 7   existing_loan_cnt                    1381255 non-null  float64\n",
      " 8   gender                               1381255 non-null  float64\n",
      " 9   houseown_type_배우자                    1381255 non-null  float64\n",
      " 10  houseown_type_자가                     1381255 non-null  float64\n",
      " 11  houseown_type_전월세                    1381255 non-null  float64\n",
      " 12  income_type_EARNEDINCOME2            1381255 non-null  float64\n",
      " 13  income_type_FREELANCER               1381255 non-null  float64\n",
      " 14  income_type_OTHERINCOME              1381255 non-null  float64\n",
      " 15  income_type_PRACTITIONER             1381255 non-null  float64\n",
      " 16  income_type_PRIVATEBUSINESS          1381255 non-null  float64\n",
      " 17  personal_rehabilitation_complete_yn  1381255 non-null  float64\n",
      " 18  personal_rehabilitation_yn           1381255 non-null  float64\n",
      " 19  purpose_대환대출                         1381255 non-null  float64\n",
      " 20  purpose_사업자금                         1381255 non-null  float64\n",
      " 21  purpose_생활비                          1381255 non-null  float64\n",
      " 22  purpose_자동차구입                        1381255 non-null  float64\n",
      " 23  purpose_전월세보증금                       1381255 non-null  float64\n",
      " 24  purpose_주택구입                         1381255 non-null  float64\n",
      " 25  purpose_투자                           1381255 non-null  float64\n",
      " 26  score_type                           1381255 non-null  float64\n",
      " 27  work_year                            1381255 non-null  float64\n",
      " 28  yearly_income                        1381255 non-null  float64\n",
      " 29  user_id                              1381255 non-null  int64  \n",
      " 30  insert_time                          1381255 non-null  object \n",
      "dtypes: float64(29), int64(1), object(1)\n",
      "memory usage: 337.2+ MB\n"
     ]
    }
   ],
   "source": [
    "user_spec_2.info()"
   ]
  },
  {
   "cell_type": "code",
   "execution_count": 52,
   "metadata": {
    "collapsed": true
   },
   "outputs": [
    {
     "data": {
      "text/plain": [
       "age_cat                                0\n",
       "application_id                         0\n",
       "desired_amount                         0\n",
       "employment_type_기타                     0\n",
       "employment_type_일용직                    0\n",
       "employment_type_정규직                    0\n",
       "existing_loan_amt                      0\n",
       "existing_loan_cnt                      0\n",
       "gender                                 0\n",
       "houseown_type_배우자                      0\n",
       "houseown_type_자가                       0\n",
       "houseown_type_전월세                      0\n",
       "income_type_EARNEDINCOME2              0\n",
       "income_type_FREELANCER                 0\n",
       "income_type_OTHERINCOME                0\n",
       "income_type_PRACTITIONER               0\n",
       "income_type_PRIVATEBUSINESS            0\n",
       "personal_rehabilitation_complete_yn    0\n",
       "personal_rehabilitation_yn             0\n",
       "purpose_대환대출                           0\n",
       "purpose_사업자금                           0\n",
       "purpose_생활비                            0\n",
       "purpose_자동차구입                          0\n",
       "purpose_전월세보증금                         0\n",
       "purpose_주택구입                           0\n",
       "purpose_투자                             0\n",
       "score_type                             0\n",
       "work_year                              0\n",
       "yearly_income                          0\n",
       "user_id                                0\n",
       "insert_time                            0\n",
       "dtype: int64"
      ]
     },
     "execution_count": 52,
     "metadata": {},
     "output_type": "execute_result"
    }
   ],
   "source": [
    "user_spec_2.isnull().sum()"
   ]
  },
  {
   "cell_type": "markdown",
   "metadata": {},
   "source": [
    "### 4. 파생변수 생성 [log_data]"
   ]
  },
  {
   "cell_type": "code",
   "execution_count": null,
   "metadata": {},
   "outputs": [],
   "source": []
  },
  {
   "cell_type": "markdown",
   "metadata": {},
   "source": [
    "### 4-1. PrepayCalc_freq"
   ]
  },
  {
   "cell_type": "code",
   "execution_count": 53,
   "metadata": {
    "collapsed": true
   },
   "outputs": [
    {
     "data": {
      "text/html": [
       "<div>\n",
       "<style scoped>\n",
       "    .dataframe tbody tr th:only-of-type {\n",
       "        vertical-align: middle;\n",
       "    }\n",
       "\n",
       "    .dataframe tbody tr th {\n",
       "        vertical-align: top;\n",
       "    }\n",
       "\n",
       "    .dataframe thead th {\n",
       "        text-align: right;\n",
       "    }\n",
       "</style>\n",
       "<table border=\"1\" class=\"dataframe\">\n",
       "  <thead>\n",
       "    <tr style=\"text-align: right;\">\n",
       "      <th></th>\n",
       "      <th>user_id</th>\n",
       "      <th>event</th>\n",
       "      <th>timestamp</th>\n",
       "      <th>mp_os</th>\n",
       "      <th>mp_app_version</th>\n",
       "      <th>date_cd</th>\n",
       "    </tr>\n",
       "  </thead>\n",
       "  <tbody>\n",
       "    <tr>\n",
       "      <th>7</th>\n",
       "      <td>640185</td>\n",
       "      <td>UsePrepayCalc</td>\n",
       "      <td>2022-03-25 11:43:07</td>\n",
       "      <td>iOS</td>\n",
       "      <td>3.6.1</td>\n",
       "      <td>2022-03-25</td>\n",
       "    </tr>\n",
       "    <tr>\n",
       "      <th>20</th>\n",
       "      <td>640185</td>\n",
       "      <td>UsePrepayCalc</td>\n",
       "      <td>2022-03-25 11:45:54</td>\n",
       "      <td>iOS</td>\n",
       "      <td>3.6.1</td>\n",
       "      <td>2022-03-25</td>\n",
       "    </tr>\n",
       "    <tr>\n",
       "      <th>399</th>\n",
       "      <td>677710</td>\n",
       "      <td>UsePrepayCalc</td>\n",
       "      <td>2022-03-25 06:59:45</td>\n",
       "      <td>iOS</td>\n",
       "      <td>3.6.1</td>\n",
       "      <td>2022-03-25</td>\n",
       "    </tr>\n",
       "    <tr>\n",
       "      <th>462</th>\n",
       "      <td>318995</td>\n",
       "      <td>UsePrepayCalc</td>\n",
       "      <td>2022-03-25 08:50:26</td>\n",
       "      <td>iOS</td>\n",
       "      <td>3.6.1</td>\n",
       "      <td>2022-03-25</td>\n",
       "    </tr>\n",
       "    <tr>\n",
       "      <th>658</th>\n",
       "      <td>160211</td>\n",
       "      <td>UsePrepayCalc</td>\n",
       "      <td>2022-03-01 04:21:22</td>\n",
       "      <td>iOS</td>\n",
       "      <td>3.6.0</td>\n",
       "      <td>2022-03-01</td>\n",
       "    </tr>\n",
       "    <tr>\n",
       "      <th>...</th>\n",
       "      <td>...</td>\n",
       "      <td>...</td>\n",
       "      <td>...</td>\n",
       "      <td>...</td>\n",
       "      <td>...</td>\n",
       "      <td>...</td>\n",
       "    </tr>\n",
       "    <tr>\n",
       "      <th>17755945</th>\n",
       "      <td>766754</td>\n",
       "      <td>UsePrepayCalc</td>\n",
       "      <td>2022-04-14 21:06:35</td>\n",
       "      <td>iOS</td>\n",
       "      <td>3.7.0</td>\n",
       "      <td>2022-04-14</td>\n",
       "    </tr>\n",
       "    <tr>\n",
       "      <th>17757372</th>\n",
       "      <td>46390</td>\n",
       "      <td>UsePrepayCalc</td>\n",
       "      <td>2022-04-14 22:26:11</td>\n",
       "      <td>iOS</td>\n",
       "      <td>3.7.0</td>\n",
       "      <td>2022-04-14</td>\n",
       "    </tr>\n",
       "    <tr>\n",
       "      <th>17760070</th>\n",
       "      <td>664995</td>\n",
       "      <td>UsePrepayCalc</td>\n",
       "      <td>2022-04-14 07:06:13</td>\n",
       "      <td>iOS</td>\n",
       "      <td>3.7.0</td>\n",
       "      <td>2022-04-14</td>\n",
       "    </tr>\n",
       "    <tr>\n",
       "      <th>17766198</th>\n",
       "      <td>628441</td>\n",
       "      <td>UsePrepayCalc</td>\n",
       "      <td>2022-05-30 11:55:58</td>\n",
       "      <td>iOS</td>\n",
       "      <td>NaN</td>\n",
       "      <td>2022-05-30</td>\n",
       "    </tr>\n",
       "    <tr>\n",
       "      <th>17837195</th>\n",
       "      <td>373473</td>\n",
       "      <td>UsePrepayCalc</td>\n",
       "      <td>2022-05-27 08:52:53</td>\n",
       "      <td>iOS</td>\n",
       "      <td>NaN</td>\n",
       "      <td>2022-05-27</td>\n",
       "    </tr>\n",
       "  </tbody>\n",
       "</table>\n",
       "<p>7360 rows × 6 columns</p>\n",
       "</div>"
      ],
      "text/plain": [
       "          user_id          event            timestamp mp_os mp_app_version  \\\n",
       "7          640185  UsePrepayCalc  2022-03-25 11:43:07   iOS          3.6.1   \n",
       "20         640185  UsePrepayCalc  2022-03-25 11:45:54   iOS          3.6.1   \n",
       "399        677710  UsePrepayCalc  2022-03-25 06:59:45   iOS          3.6.1   \n",
       "462        318995  UsePrepayCalc  2022-03-25 08:50:26   iOS          3.6.1   \n",
       "658        160211  UsePrepayCalc  2022-03-01 04:21:22   iOS          3.6.0   \n",
       "...           ...            ...                  ...   ...            ...   \n",
       "17755945   766754  UsePrepayCalc  2022-04-14 21:06:35   iOS          3.7.0   \n",
       "17757372    46390  UsePrepayCalc  2022-04-14 22:26:11   iOS          3.7.0   \n",
       "17760070   664995  UsePrepayCalc  2022-04-14 07:06:13   iOS          3.7.0   \n",
       "17766198   628441  UsePrepayCalc  2022-05-30 11:55:58   iOS            NaN   \n",
       "17837195   373473  UsePrepayCalc  2022-05-27 08:52:53   iOS            NaN   \n",
       "\n",
       "             date_cd  \n",
       "7         2022-03-25  \n",
       "20        2022-03-25  \n",
       "399       2022-03-25  \n",
       "462       2022-03-25  \n",
       "658       2022-03-01  \n",
       "...              ...  \n",
       "17755945  2022-04-14  \n",
       "17757372  2022-04-14  \n",
       "17760070  2022-04-14  \n",
       "17766198  2022-05-30  \n",
       "17837195  2022-05-27  \n",
       "\n",
       "[7360 rows x 6 columns]"
      ]
     },
     "execution_count": 53,
     "metadata": {},
     "output_type": "execute_result"
    }
   ],
   "source": [
    "# event가 UsePrepayCalc에 해당하는 행만 선택하여 log_dsr에 저장\n",
    "\n",
    "log_prepay = log_data[log_data[\"event\"] == \"UsePrepayCalc\"]\n",
    "log_prepay"
   ]
  },
  {
   "cell_type": "code",
   "execution_count": 54,
   "metadata": {
    "collapsed": true
   },
   "outputs": [
    {
     "data": {
      "text/plain": [
       "7           2\n",
       "20          2\n",
       "399         1\n",
       "462         1\n",
       "658         1\n",
       "           ..\n",
       "17755945    1\n",
       "17757372    1\n",
       "17760070    1\n",
       "17766198    1\n",
       "17837195    1\n",
       "Name: PrepayCalc_freq, Length: 7360, dtype: int64"
      ]
     },
     "execution_count": 54,
     "metadata": {},
     "output_type": "execute_result"
    }
   ],
   "source": [
    "log_prepay['PrepayCalc_freq'] = log_prepay.groupby('user_id')['user_id'].transform('count')\n",
    "log_prepay['PrepayCalc_freq']"
   ]
  },
  {
   "cell_type": "code",
   "execution_count": 55,
   "metadata": {
    "collapsed": true
   },
   "outputs": [
    {
     "data": {
      "text/html": [
       "<div>\n",
       "<style scoped>\n",
       "    .dataframe tbody tr th:only-of-type {\n",
       "        vertical-align: middle;\n",
       "    }\n",
       "\n",
       "    .dataframe tbody tr th {\n",
       "        vertical-align: top;\n",
       "    }\n",
       "\n",
       "    .dataframe thead th {\n",
       "        text-align: right;\n",
       "    }\n",
       "</style>\n",
       "<table border=\"1\" class=\"dataframe\">\n",
       "  <thead>\n",
       "    <tr style=\"text-align: right;\">\n",
       "      <th></th>\n",
       "      <th>user_id</th>\n",
       "      <th>PrepayCalc_freq</th>\n",
       "    </tr>\n",
       "  </thead>\n",
       "  <tbody>\n",
       "    <tr>\n",
       "      <th>7</th>\n",
       "      <td>640185</td>\n",
       "      <td>2</td>\n",
       "    </tr>\n",
       "    <tr>\n",
       "      <th>20</th>\n",
       "      <td>640185</td>\n",
       "      <td>2</td>\n",
       "    </tr>\n",
       "    <tr>\n",
       "      <th>399</th>\n",
       "      <td>677710</td>\n",
       "      <td>1</td>\n",
       "    </tr>\n",
       "    <tr>\n",
       "      <th>462</th>\n",
       "      <td>318995</td>\n",
       "      <td>1</td>\n",
       "    </tr>\n",
       "    <tr>\n",
       "      <th>658</th>\n",
       "      <td>160211</td>\n",
       "      <td>1</td>\n",
       "    </tr>\n",
       "    <tr>\n",
       "      <th>...</th>\n",
       "      <td>...</td>\n",
       "      <td>...</td>\n",
       "    </tr>\n",
       "    <tr>\n",
       "      <th>17755945</th>\n",
       "      <td>766754</td>\n",
       "      <td>1</td>\n",
       "    </tr>\n",
       "    <tr>\n",
       "      <th>17757372</th>\n",
       "      <td>46390</td>\n",
       "      <td>1</td>\n",
       "    </tr>\n",
       "    <tr>\n",
       "      <th>17760070</th>\n",
       "      <td>664995</td>\n",
       "      <td>1</td>\n",
       "    </tr>\n",
       "    <tr>\n",
       "      <th>17766198</th>\n",
       "      <td>628441</td>\n",
       "      <td>1</td>\n",
       "    </tr>\n",
       "    <tr>\n",
       "      <th>17837195</th>\n",
       "      <td>373473</td>\n",
       "      <td>1</td>\n",
       "    </tr>\n",
       "  </tbody>\n",
       "</table>\n",
       "<p>7360 rows × 2 columns</p>\n",
       "</div>"
      ],
      "text/plain": [
       "          user_id  PrepayCalc_freq\n",
       "7          640185                2\n",
       "20         640185                2\n",
       "399        677710                1\n",
       "462        318995                1\n",
       "658        160211                1\n",
       "...           ...              ...\n",
       "17755945   766754                1\n",
       "17757372    46390                1\n",
       "17760070   664995                1\n",
       "17766198   628441                1\n",
       "17837195   373473                1\n",
       "\n",
       "[7360 rows x 2 columns]"
      ]
     },
     "execution_count": 55,
     "metadata": {},
     "output_type": "execute_result"
    }
   ],
   "source": [
    "# user_id와 여윳돈 계산기 이용 빈도 수 열만 추출하여 저장\n",
    "\n",
    "log_prepay_merge = log_prepay.loc[:, ['user_id','PrepayCalc_freq']]\n",
    "log_prepay_merge"
   ]
  },
  {
   "cell_type": "code",
   "execution_count": 56,
   "metadata": {},
   "outputs": [],
   "source": [
    "user_1_prepay = pd.merge(user_spec_2, log_prepay_merge, how=\"left\", on=\"user_id\")"
   ]
  },
  {
   "cell_type": "code",
   "execution_count": 57,
   "metadata": {},
   "outputs": [],
   "source": [
    "user_1_prepay[\"PrepayCalc_freq\"] = user_1_prepay[\"PrepayCalc_freq\"].replace(np.nan,0)"
   ]
  },
  {
   "cell_type": "markdown",
   "metadata": {},
   "source": [
    "### 4-2. DSRCalc_freq"
   ]
  },
  {
   "cell_type": "code",
   "execution_count": 58,
   "metadata": {
    "collapsed": true
   },
   "outputs": [
    {
     "data": {
      "text/html": [
       "<div>\n",
       "<style scoped>\n",
       "    .dataframe tbody tr th:only-of-type {\n",
       "        vertical-align: middle;\n",
       "    }\n",
       "\n",
       "    .dataframe tbody tr th {\n",
       "        vertical-align: top;\n",
       "    }\n",
       "\n",
       "    .dataframe thead th {\n",
       "        text-align: right;\n",
       "    }\n",
       "</style>\n",
       "<table border=\"1\" class=\"dataframe\">\n",
       "  <thead>\n",
       "    <tr style=\"text-align: right;\">\n",
       "      <th></th>\n",
       "      <th>user_id</th>\n",
       "      <th>event</th>\n",
       "      <th>timestamp</th>\n",
       "      <th>mp_os</th>\n",
       "      <th>mp_app_version</th>\n",
       "      <th>date_cd</th>\n",
       "    </tr>\n",
       "  </thead>\n",
       "  <tbody>\n",
       "    <tr>\n",
       "      <th>201</th>\n",
       "      <td>695829</td>\n",
       "      <td>UseDSRCalc</td>\n",
       "      <td>2022-03-25 16:18:13</td>\n",
       "      <td>iOS</td>\n",
       "      <td>3.6.1</td>\n",
       "      <td>2022-03-25</td>\n",
       "    </tr>\n",
       "    <tr>\n",
       "      <th>2568</th>\n",
       "      <td>7956</td>\n",
       "      <td>UseDSRCalc</td>\n",
       "      <td>2022-03-01 17:16:51</td>\n",
       "      <td>iOS</td>\n",
       "      <td>3.6.0</td>\n",
       "      <td>2022-03-01</td>\n",
       "    </tr>\n",
       "    <tr>\n",
       "      <th>2971</th>\n",
       "      <td>109911</td>\n",
       "      <td>UseDSRCalc</td>\n",
       "      <td>2022-03-01 11:40:59</td>\n",
       "      <td>Android</td>\n",
       "      <td>3.5.3</td>\n",
       "      <td>2022-03-01</td>\n",
       "    </tr>\n",
       "    <tr>\n",
       "      <th>11252</th>\n",
       "      <td>362863</td>\n",
       "      <td>UseDSRCalc</td>\n",
       "      <td>2022-04-29 07:27:08</td>\n",
       "      <td>iOS</td>\n",
       "      <td>3.8.0</td>\n",
       "      <td>2022-04-29</td>\n",
       "    </tr>\n",
       "    <tr>\n",
       "      <th>11261</th>\n",
       "      <td>569050</td>\n",
       "      <td>UseDSRCalc</td>\n",
       "      <td>2022-04-29 07:48:29</td>\n",
       "      <td>iOS</td>\n",
       "      <td>3.8.0</td>\n",
       "      <td>2022-04-29</td>\n",
       "    </tr>\n",
       "    <tr>\n",
       "      <th>...</th>\n",
       "      <td>...</td>\n",
       "      <td>...</td>\n",
       "      <td>...</td>\n",
       "      <td>...</td>\n",
       "      <td>...</td>\n",
       "      <td>...</td>\n",
       "    </tr>\n",
       "    <tr>\n",
       "      <th>17762111</th>\n",
       "      <td>412086</td>\n",
       "      <td>UseDSRCalc</td>\n",
       "      <td>2022-04-14 01:02:09</td>\n",
       "      <td>iOS</td>\n",
       "      <td>3.7.0</td>\n",
       "      <td>2022-04-14</td>\n",
       "    </tr>\n",
       "    <tr>\n",
       "      <th>17762132</th>\n",
       "      <td>678034</td>\n",
       "      <td>UseDSRCalc</td>\n",
       "      <td>2022-04-14 01:54:52</td>\n",
       "      <td>iOS</td>\n",
       "      <td>3.7.0</td>\n",
       "      <td>2022-04-14</td>\n",
       "    </tr>\n",
       "    <tr>\n",
       "      <th>17815123</th>\n",
       "      <td>302309</td>\n",
       "      <td>UseDSRCalc</td>\n",
       "      <td>2022-06-08 06:12:48</td>\n",
       "      <td>iOS</td>\n",
       "      <td>NaN</td>\n",
       "      <td>2022-06-08</td>\n",
       "    </tr>\n",
       "    <tr>\n",
       "      <th>17826375</th>\n",
       "      <td>581832</td>\n",
       "      <td>UseDSRCalc</td>\n",
       "      <td>2022-05-27 08:06:28</td>\n",
       "      <td>iOS</td>\n",
       "      <td>NaN</td>\n",
       "      <td>2022-05-27</td>\n",
       "    </tr>\n",
       "    <tr>\n",
       "      <th>17833879</th>\n",
       "      <td>865272</td>\n",
       "      <td>UseDSRCalc</td>\n",
       "      <td>2022-06-08 17:51:30</td>\n",
       "      <td>iOS</td>\n",
       "      <td>NaN</td>\n",
       "      <td>2022-06-08</td>\n",
       "    </tr>\n",
       "  </tbody>\n",
       "</table>\n",
       "<p>4665 rows × 6 columns</p>\n",
       "</div>"
      ],
      "text/plain": [
       "          user_id       event            timestamp    mp_os mp_app_version  \\\n",
       "201        695829  UseDSRCalc  2022-03-25 16:18:13      iOS          3.6.1   \n",
       "2568         7956  UseDSRCalc  2022-03-01 17:16:51      iOS          3.6.0   \n",
       "2971       109911  UseDSRCalc  2022-03-01 11:40:59  Android          3.5.3   \n",
       "11252      362863  UseDSRCalc  2022-04-29 07:27:08      iOS          3.8.0   \n",
       "11261      569050  UseDSRCalc  2022-04-29 07:48:29      iOS          3.8.0   \n",
       "...           ...         ...                  ...      ...            ...   \n",
       "17762111   412086  UseDSRCalc  2022-04-14 01:02:09      iOS          3.7.0   \n",
       "17762132   678034  UseDSRCalc  2022-04-14 01:54:52      iOS          3.7.0   \n",
       "17815123   302309  UseDSRCalc  2022-06-08 06:12:48      iOS            NaN   \n",
       "17826375   581832  UseDSRCalc  2022-05-27 08:06:28      iOS            NaN   \n",
       "17833879   865272  UseDSRCalc  2022-06-08 17:51:30      iOS            NaN   \n",
       "\n",
       "             date_cd  \n",
       "201       2022-03-25  \n",
       "2568      2022-03-01  \n",
       "2971      2022-03-01  \n",
       "11252     2022-04-29  \n",
       "11261     2022-04-29  \n",
       "...              ...  \n",
       "17762111  2022-04-14  \n",
       "17762132  2022-04-14  \n",
       "17815123  2022-06-08  \n",
       "17826375  2022-05-27  \n",
       "17833879  2022-06-08  \n",
       "\n",
       "[4665 rows x 6 columns]"
      ]
     },
     "execution_count": 58,
     "metadata": {},
     "output_type": "execute_result"
    }
   ],
   "source": [
    "# event가 UseDSRCalc에 해당하는 행만 선택하여 log_dsr에 저장\n",
    "\n",
    "log_dsr = log_data[log_data[\"event\"] == \"UseDSRCalc\"]\n",
    "log_dsr"
   ]
  },
  {
   "cell_type": "code",
   "execution_count": 59,
   "metadata": {
    "collapsed": true
   },
   "outputs": [
    {
     "data": {
      "text/plain": [
       "201         1\n",
       "2568        1\n",
       "2971        1\n",
       "11252       1\n",
       "11261       5\n",
       "           ..\n",
       "17762111    1\n",
       "17762132    2\n",
       "17815123    1\n",
       "17826375    1\n",
       "17833879    3\n",
       "Name: DSRCalc_freq, Length: 4665, dtype: int64"
      ]
     },
     "execution_count": 59,
     "metadata": {},
     "output_type": "execute_result"
    }
   ],
   "source": [
    "# user_id 별 DSR계산기 이용 빈도 수 추출하여 저장\n",
    "\n",
    "log_dsr['DSRCalc_freq'] = log_dsr.groupby('user_id')['user_id'].transform('count')\n",
    "log_dsr['DSRCalc_freq']"
   ]
  },
  {
   "cell_type": "code",
   "execution_count": 60,
   "metadata": {
    "collapsed": true
   },
   "outputs": [
    {
     "data": {
      "text/html": [
       "<div>\n",
       "<style scoped>\n",
       "    .dataframe tbody tr th:only-of-type {\n",
       "        vertical-align: middle;\n",
       "    }\n",
       "\n",
       "    .dataframe tbody tr th {\n",
       "        vertical-align: top;\n",
       "    }\n",
       "\n",
       "    .dataframe thead th {\n",
       "        text-align: right;\n",
       "    }\n",
       "</style>\n",
       "<table border=\"1\" class=\"dataframe\">\n",
       "  <thead>\n",
       "    <tr style=\"text-align: right;\">\n",
       "      <th></th>\n",
       "      <th>user_id</th>\n",
       "      <th>DSRCalc_freq</th>\n",
       "    </tr>\n",
       "  </thead>\n",
       "  <tbody>\n",
       "    <tr>\n",
       "      <th>201</th>\n",
       "      <td>695829</td>\n",
       "      <td>1</td>\n",
       "    </tr>\n",
       "    <tr>\n",
       "      <th>2568</th>\n",
       "      <td>7956</td>\n",
       "      <td>1</td>\n",
       "    </tr>\n",
       "    <tr>\n",
       "      <th>2971</th>\n",
       "      <td>109911</td>\n",
       "      <td>1</td>\n",
       "    </tr>\n",
       "    <tr>\n",
       "      <th>11252</th>\n",
       "      <td>362863</td>\n",
       "      <td>1</td>\n",
       "    </tr>\n",
       "    <tr>\n",
       "      <th>11261</th>\n",
       "      <td>569050</td>\n",
       "      <td>5</td>\n",
       "    </tr>\n",
       "    <tr>\n",
       "      <th>...</th>\n",
       "      <td>...</td>\n",
       "      <td>...</td>\n",
       "    </tr>\n",
       "    <tr>\n",
       "      <th>17762111</th>\n",
       "      <td>412086</td>\n",
       "      <td>1</td>\n",
       "    </tr>\n",
       "    <tr>\n",
       "      <th>17762132</th>\n",
       "      <td>678034</td>\n",
       "      <td>2</td>\n",
       "    </tr>\n",
       "    <tr>\n",
       "      <th>17815123</th>\n",
       "      <td>302309</td>\n",
       "      <td>1</td>\n",
       "    </tr>\n",
       "    <tr>\n",
       "      <th>17826375</th>\n",
       "      <td>581832</td>\n",
       "      <td>1</td>\n",
       "    </tr>\n",
       "    <tr>\n",
       "      <th>17833879</th>\n",
       "      <td>865272</td>\n",
       "      <td>3</td>\n",
       "    </tr>\n",
       "  </tbody>\n",
       "</table>\n",
       "<p>4665 rows × 2 columns</p>\n",
       "</div>"
      ],
      "text/plain": [
       "          user_id  DSRCalc_freq\n",
       "201        695829             1\n",
       "2568         7956             1\n",
       "2971       109911             1\n",
       "11252      362863             1\n",
       "11261      569050             5\n",
       "...           ...           ...\n",
       "17762111   412086             1\n",
       "17762132   678034             2\n",
       "17815123   302309             1\n",
       "17826375   581832             1\n",
       "17833879   865272             3\n",
       "\n",
       "[4665 rows x 2 columns]"
      ]
     },
     "execution_count": 60,
     "metadata": {},
     "output_type": "execute_result"
    }
   ],
   "source": [
    "# user_id와 DSR 계산기 이용 빈도 수 열만 추출하여 저장\n",
    "\n",
    "log_dsr_merge = log_dsr.loc[:, ['user_id','DSRCalc_freq']]\n",
    "log_dsr_merge"
   ]
  },
  {
   "cell_type": "code",
   "execution_count": 61,
   "metadata": {},
   "outputs": [],
   "source": [
    "user_1_dsrprepay = pd.merge(user_1_prepay, log_dsr_merge, how=\"left\", on=\"user_id\")"
   ]
  },
  {
   "cell_type": "code",
   "execution_count": 62,
   "metadata": {},
   "outputs": [],
   "source": [
    "user_1_dsrprepay[\"DSRCalc_freq\"] = user_1_dsrprepay[\"DSRCalc_freq\"].replace(np.nan,0)"
   ]
  },
  {
   "cell_type": "code",
   "execution_count": 63,
   "metadata": {
    "collapsed": true
   },
   "outputs": [
    {
     "name": "stdout",
     "output_type": "stream",
     "text": [
      "<class 'pandas.core.frame.DataFrame'>\n",
      "Int64Index: 1439446 entries, 0 to 1439445\n",
      "Data columns (total 33 columns):\n",
      " #   Column                               Non-Null Count    Dtype  \n",
      "---  ------                               --------------    -----  \n",
      " 0   age_cat                              1439446 non-null  float64\n",
      " 1   application_id                       1439446 non-null  float64\n",
      " 2   desired_amount                       1439446 non-null  float64\n",
      " 3   employment_type_기타                   1439446 non-null  float64\n",
      " 4   employment_type_일용직                  1439446 non-null  float64\n",
      " 5   employment_type_정규직                  1439446 non-null  float64\n",
      " 6   existing_loan_amt                    1439446 non-null  float64\n",
      " 7   existing_loan_cnt                    1439446 non-null  float64\n",
      " 8   gender                               1439446 non-null  float64\n",
      " 9   houseown_type_배우자                    1439446 non-null  float64\n",
      " 10  houseown_type_자가                     1439446 non-null  float64\n",
      " 11  houseown_type_전월세                    1439446 non-null  float64\n",
      " 12  income_type_EARNEDINCOME2            1439446 non-null  float64\n",
      " 13  income_type_FREELANCER               1439446 non-null  float64\n",
      " 14  income_type_OTHERINCOME              1439446 non-null  float64\n",
      " 15  income_type_PRACTITIONER             1439446 non-null  float64\n",
      " 16  income_type_PRIVATEBUSINESS          1439446 non-null  float64\n",
      " 17  personal_rehabilitation_complete_yn  1439446 non-null  float64\n",
      " 18  personal_rehabilitation_yn           1439446 non-null  float64\n",
      " 19  purpose_대환대출                         1439446 non-null  float64\n",
      " 20  purpose_사업자금                         1439446 non-null  float64\n",
      " 21  purpose_생활비                          1439446 non-null  float64\n",
      " 22  purpose_자동차구입                        1439446 non-null  float64\n",
      " 23  purpose_전월세보증금                       1439446 non-null  float64\n",
      " 24  purpose_주택구입                         1439446 non-null  float64\n",
      " 25  purpose_투자                           1439446 non-null  float64\n",
      " 26  score_type                           1439446 non-null  float64\n",
      " 27  work_year                            1439446 non-null  float64\n",
      " 28  yearly_income                        1439446 non-null  float64\n",
      " 29  user_id                              1439446 non-null  int64  \n",
      " 30  insert_time                          1439446 non-null  object \n",
      " 31  PrepayCalc_freq                      1439446 non-null  float64\n",
      " 32  DSRCalc_freq                         1439446 non-null  float64\n",
      "dtypes: float64(31), int64(1), object(1)\n",
      "memory usage: 373.4+ MB\n"
     ]
    }
   ],
   "source": [
    "user_1_dsrprepay.info()"
   ]
  },
  {
   "cell_type": "code",
   "execution_count": 64,
   "metadata": {},
   "outputs": [],
   "source": [
    "user_1_dsrprepay.to_csv(\"user_1_dsrprepay_1.csv\", index=False)"
   ]
  },
  {
   "cell_type": "code",
   "execution_count": null,
   "metadata": {},
   "outputs": [],
   "source": [
    "user_spec_3."
   ]
  }
 ],
 "metadata": {
  "kernelspec": {
   "display_name": "Python 3",
   "language": "python",
   "name": "python3"
  },
  "language_info": {
   "codemirror_mode": {
    "name": "ipython",
    "version": 3
   },
   "file_extension": ".py",
   "mimetype": "text/x-python",
   "name": "python",
   "nbconvert_exporter": "python",
   "pygments_lexer": "ipython3",
   "version": "3.8.5"
  }
 },
 "nbformat": 4,
 "nbformat_minor": 4
}
