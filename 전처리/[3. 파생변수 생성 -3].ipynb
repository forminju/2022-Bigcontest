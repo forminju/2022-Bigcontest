{
 "cells": [
  {
   "cell_type": "code",
   "execution_count": null,
   "metadata": {},
   "outputs": [],
   "source": [
    "import pandas as pd\n",
    "import numpy as np\n",
    "import seaborn as sns\n",
    "import os\n",
    "import warnings\n",
    "import matplotlib.pyplot as plt\n",
    "from matplotlib import font_manager, rc\n",
    "%matplotlib inline\n",
    "\n",
    "warnings.filterwarnings(\"ignore\")\n",
    "\n",
    "font_name = font_manager.FontProperties(fname=\"c:/Windows/Fonts/malgun.ttf\").get_name()\n",
    "rc('font', family=font_name)\n",
    "\n",
    "train = pd.read_csv(\"train_수정_2.csv\")\n",
    "test = pd.read_csv(\"train_수정_2.csv\")\n",
    "loan_result = pd.read_csv(\"loan_result.csv\", usecols=['application_id', 'loan_rate', 'loan_limit', 'product_id'])"
   ]
  },
  {
   "cell_type": "code",
   "execution_count": null,
   "metadata": {},
   "outputs": [],
   "source": [
    "train = pd.merge(train, loan_result, how='inner', on='application_id')\n",
    "test = pd.merge(test, loan_result, how='inner', on='application_id')"
   ]
  },
  {
   "cell_type": "markdown",
   "metadata": {},
   "source": [
    "### 6-1. loan_limit / desired_amount"
   ]
  },
  {
   "cell_type": "code",
   "execution_count": null,
   "metadata": {},
   "outputs": [],
   "source": [
    "train['loan_limit / desired_amount'] = train['loan_limit'] /train['desired_amount']\n",
    "test['loan_limit / desired_amount'] = test['loan_limit'] /test['desired_amount']"
   ]
  },
  {
   "cell_type": "markdown",
   "metadata": {},
   "source": [
    "> 이상치 처리"
   ]
  },
  {
   "cell_type": "code",
   "execution_count": null,
   "metadata": {},
   "outputs": [],
   "source": [
    "train.loc[train['desired_amount']==0, 'loan_limit / desired_amount']=0\n",
    "test.loc[test['desired_amount']==0, 'loan_limit / desired_amount']=0"
   ]
  },
  {
   "cell_type": "markdown",
   "metadata": {},
   "source": [
    "### 6-2. loan_rate_min / loan_rate"
   ]
  },
  {
   "cell_type": "code",
   "execution_count": null,
   "metadata": {},
   "outputs": [],
   "source": [
    "train['loan_rate_min / loan_rate'] = train['loan_rate'].min() / train['loan_rate']\n",
    "test['loan_rate_min / loan_rate'] = test['loan_rate'].min() / test['loan_rate']"
   ]
  },
  {
   "cell_type": "markdown",
   "metadata": {},
   "source": [
    "### 6-3. existing_loan_rate"
   ]
  },
  {
   "cell_type": "code",
   "execution_count": null,
   "metadata": {},
   "outputs": [],
   "source": [
    "train['existing_loan_rate'] = (train['existing_loan_amt']/train['yearly_income'])*100\n",
    "train['existing_loan_rate'] = train['existing_loan_rate'].fillna(0)\n",
    "train = train.replace({'existing_loan_rate' : inf}, 0)"
   ]
  },
  {
   "cell_type": "code",
   "execution_count": null,
   "metadata": {},
   "outputs": [],
   "source": [
    "test['existing_loan_rate'] = (test['existing_loan_amt']/test['yearly_income'])*100\n",
    "test['existing_loan_rate'] = test['existing_loan_rate'].fillna(0)\n",
    "test = test.replace({'existing_loan_rate' : inf}, 0)"
   ]
  }
 ],
 "metadata": {
  "kernelspec": {
   "display_name": "Python 3",
   "language": "python",
   "name": "python3"
  },
  "language_info": {
   "codemirror_mode": {
    "name": "ipython",
    "version": 3
   },
   "file_extension": ".py",
   "mimetype": "text/x-python",
   "name": "python",
   "nbconvert_exporter": "python",
   "pygments_lexer": "ipython3",
   "version": "3.8.5"
  }
 },
 "nbformat": 4,
 "nbformat_minor": 4
}
