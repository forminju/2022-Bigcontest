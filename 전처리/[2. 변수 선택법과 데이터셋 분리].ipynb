{
 "cells": [
  {
   "cell_type": "code",
   "execution_count": 1,
   "metadata": {},
   "outputs": [],
   "source": [
    "import pandas as pd\n",
    "import numpy as np\n",
    "import seaborn as sns\n",
    "import os\n",
    "import warnings\n",
    "import matplotlib.pyplot as plt\n",
    "%matplotlib inline\n",
    "\n",
    "warnings.filterwarnings(\"ignore\")\n",
    "\n",
    "user_spec = pd.read_csv(\"user_1_dsrprepay_1.csv\")"
   ]
  },
  {
   "cell_type": "markdown",
   "metadata": {},
   "source": [
    "### 5. 변수선택법\n",
    "### 5-1. 모듈 돌리기 전 음수 value 갖는 컬럼들 전처리"
   ]
  },
  {
   "cell_type": "code",
   "execution_count": 2,
   "metadata": {},
   "outputs": [],
   "source": [
    "user_spec['work_year'] = user_spec['work_year'].round()\n",
    "user_spec['work_year'] = user_spec[user_spec['work_year']<0]=0\n",
    "user_spec['existing_loan_cnt'] = user_spec['existing_loan_cnt'].round()\n",
    "user_spec['existing_loan_cnt'] = user_spec[user_spec['existing_loan_cnt']<0]=0\n",
    "user_spec['existing_loan_amt'] = user_spec[user_spec['existing_loan_amt']<0]=0"
   ]
  },
  {
   "cell_type": "markdown",
   "metadata": {},
   "source": [
    "### 5-2. 변수선택법 모듈 돌리기 위하여 다시 한 번 'is_applied' 컬럼과 merge\n",
    "> 변수선택법 모듈 (카이제곱통계량 활용) 사용시 타겟값을 기준으로 분포 간 상관관계를 파악해 변수의 중요도를 매기기 때문에, is_applied 컬럼이 필요하다."
   ]
  },
  {
   "cell_type": "code",
   "execution_count": 3,
   "metadata": {},
   "outputs": [],
   "source": [
    "loan_applied = pd.read_csv(\"loan_result.csv\", usecols=['application_id', 'is_applied','loanapply_insert_time'])"
   ]
  },
  {
   "cell_type": "code",
   "execution_count": 4,
   "metadata": {
    "collapsed": true
   },
   "outputs": [
    {
     "data": {
      "text/html": [
       "<div>\n",
       "<style scoped>\n",
       "    .dataframe tbody tr th:only-of-type {\n",
       "        vertical-align: middle;\n",
       "    }\n",
       "\n",
       "    .dataframe tbody tr th {\n",
       "        vertical-align: top;\n",
       "    }\n",
       "\n",
       "    .dataframe thead th {\n",
       "        text-align: right;\n",
       "    }\n",
       "</style>\n",
       "<table border=\"1\" class=\"dataframe\">\n",
       "  <thead>\n",
       "    <tr style=\"text-align: right;\">\n",
       "      <th></th>\n",
       "      <th>application_id</th>\n",
       "      <th>loanapply_insert_time</th>\n",
       "      <th>is_applied</th>\n",
       "    </tr>\n",
       "  </thead>\n",
       "  <tbody>\n",
       "    <tr>\n",
       "      <th>0</th>\n",
       "      <td>1748340</td>\n",
       "      <td>2022-06-07 13:05:41</td>\n",
       "      <td>NaN</td>\n",
       "    </tr>\n",
       "    <tr>\n",
       "      <th>1</th>\n",
       "      <td>1748340</td>\n",
       "      <td>2022-06-07 13:05:41</td>\n",
       "      <td>NaN</td>\n",
       "    </tr>\n",
       "    <tr>\n",
       "      <th>2</th>\n",
       "      <td>1748340</td>\n",
       "      <td>2022-06-07 13:05:41</td>\n",
       "      <td>NaN</td>\n",
       "    </tr>\n",
       "    <tr>\n",
       "      <th>3</th>\n",
       "      <td>1748340</td>\n",
       "      <td>2022-06-07 13:05:41</td>\n",
       "      <td>NaN</td>\n",
       "    </tr>\n",
       "    <tr>\n",
       "      <th>4</th>\n",
       "      <td>1748340</td>\n",
       "      <td>2022-06-07 13:05:41</td>\n",
       "      <td>NaN</td>\n",
       "    </tr>\n",
       "  </tbody>\n",
       "</table>\n",
       "</div>"
      ],
      "text/plain": [
       "   application_id loanapply_insert_time  is_applied\n",
       "0         1748340   2022-06-07 13:05:41         NaN\n",
       "1         1748340   2022-06-07 13:05:41         NaN\n",
       "2         1748340   2022-06-07 13:05:41         NaN\n",
       "3         1748340   2022-06-07 13:05:41         NaN\n",
       "4         1748340   2022-06-07 13:05:41         NaN"
      ]
     },
     "execution_count": 4,
     "metadata": {},
     "output_type": "execute_result"
    }
   ],
   "source": [
    "loan_applied.head()"
   ]
  },
  {
   "cell_type": "code",
   "execution_count": 5,
   "metadata": {},
   "outputs": [],
   "source": [
    "user_spec.drop(['insert_time'],axis=1, inplace=True)\n",
    "columns_int = ['user_id']\n",
    "columns_float = user_spec.columns[:-1]\n",
    "\n",
    "for i in columns_int:\n",
    "    user_spec[i]= user_spec[i].astype(np.int32)\n",
    "for i in columns_float:\n",
    "    user_spec[i]= user_spec[i].astype(np.float32)"
   ]
  },
  {
   "cell_type": "code",
   "execution_count": 6,
   "metadata": {
    "collapsed": true
   },
   "outputs": [
    {
     "name": "stdout",
     "output_type": "stream",
     "text": [
      "<class 'pandas.core.frame.DataFrame'>\n",
      "RangeIndex: 1439446 entries, 0 to 1439445\n",
      "Data columns (total 32 columns):\n",
      " #   Column                               Non-Null Count    Dtype  \n",
      "---  ------                               --------------    -----  \n",
      " 0   age_cat                              1439446 non-null  float32\n",
      " 1   application_id                       1439446 non-null  float32\n",
      " 2   desired_amount                       1439446 non-null  float32\n",
      " 3   employment_type_기타                   1439446 non-null  float32\n",
      " 4   employment_type_일용직                  1439446 non-null  float32\n",
      " 5   employment_type_정규직                  1439446 non-null  float32\n",
      " 6   existing_loan_amt                    1439446 non-null  float32\n",
      " 7   existing_loan_cnt                    1439446 non-null  float32\n",
      " 8   gender                               1439446 non-null  float32\n",
      " 9   houseown_type_배우자                    1439446 non-null  float32\n",
      " 10  houseown_type_자가                     1439446 non-null  float32\n",
      " 11  houseown_type_전월세                    1439446 non-null  float32\n",
      " 12  income_type_EARNEDINCOME2            1439446 non-null  float32\n",
      " 13  income_type_FREELANCER               1439446 non-null  float32\n",
      " 14  income_type_OTHERINCOME              1439446 non-null  float32\n",
      " 15  income_type_PRACTITIONER             1439446 non-null  float32\n",
      " 16  income_type_PRIVATEBUSINESS          1439446 non-null  float32\n",
      " 17  personal_rehabilitation_complete_yn  1439446 non-null  float32\n",
      " 18  personal_rehabilitation_yn           1439446 non-null  float32\n",
      " 19  purpose_대환대출                         1439446 non-null  float32\n",
      " 20  purpose_사업자금                         1439446 non-null  float32\n",
      " 21  purpose_생활비                          1439446 non-null  float32\n",
      " 22  purpose_자동차구입                        1439446 non-null  float32\n",
      " 23  purpose_전월세보증금                       1439446 non-null  float32\n",
      " 24  purpose_주택구입                         1439446 non-null  float32\n",
      " 25  purpose_투자                           1439446 non-null  float32\n",
      " 26  score_type                           1439446 non-null  float32\n",
      " 27  work_year                            1439446 non-null  float32\n",
      " 28  yearly_income                        1439446 non-null  float32\n",
      " 29  user_id                              1439446 non-null  float32\n",
      " 30  PrepayCalc_freq                      1439446 non-null  float32\n",
      " 31  DSRCalc_freq                         1439446 non-null  float64\n",
      "dtypes: float32(31), float64(1)\n",
      "memory usage: 181.2 MB\n"
     ]
    }
   ],
   "source": [
    "user_spec.info()"
   ]
  },
  {
   "cell_type": "markdown",
   "metadata": {},
   "source": [
    "### 5-3. 6월을 기준으로 train / test 컬럼을 나누고 모듈을 돌려 컬럼을 선택한다."
   ]
  },
  {
   "cell_type": "code",
   "execution_count": 7,
   "metadata": {},
   "outputs": [],
   "source": [
    "user_applied = pd.merge(user_spec, loan_applied, how='inner', on='application_id')"
   ]
  },
  {
   "cell_type": "code",
   "execution_count": 8,
   "metadata": {},
   "outputs": [],
   "source": [
    "user_applied['loanapply_insert_time']=pd.to_datetime(user_applied['loanapply_insert_time'])\n",
    "user_applied['month'] = user_applied['loanapply_insert_time'].dt.month\n",
    "train = user_applied[user_applied['month']<6]\n",
    "test = user_applied[user_applied['month']>=6]"
   ]
  },
  {
   "cell_type": "code",
   "execution_count": 9,
   "metadata": {},
   "outputs": [],
   "source": [
    "train.drop(['loanapply_insert_time'],axis=1, inplace=True)\n",
    "test.drop(['loanapply_insert_time'],axis=1, inplace=True)"
   ]
  },
  {
   "cell_type": "code",
   "execution_count": 10,
   "metadata": {
    "collapsed": true
   },
   "outputs": [
    {
     "name": "stdout",
     "output_type": "stream",
     "text": [
      "(7642656, 32)\n",
      "(3275424, 32)\n",
      "(7642656, 1)\n",
      "(3275424, 1)\n",
      "(14301807, 35)\n"
     ]
    }
   ],
   "source": [
    "from sklearn.model_selection import train_test_split\n",
    "X = train[train.columns.difference(['is_applied', 'application_id'])]\n",
    "y = train[['is_applied']]\n",
    "X_train, X_test, y_train, y_test = train_test_split(X, y, test_size=0.3, random_state=42)\n",
    "print(X_train.shape)\n",
    "print(X_test.shape)\n",
    "print(y_train.shape)\n",
    "print(y_test.shape)\n",
    "print(user_applied.shape)"
   ]
  },
  {
   "cell_type": "code",
   "execution_count": 11,
   "metadata": {
    "collapsed": true
   },
   "outputs": [
    {
     "data": {
      "text/plain": [
       "((7642656, 20), (3275424, 20))"
      ]
     },
     "execution_count": 11,
     "metadata": {},
     "output_type": "execute_result"
    }
   ],
   "source": [
    "# target(Price)와 가장 correlated 된 features 를 k개 고르기.\n",
    "## f_regresison, SelectKBest 불러오기.\n",
    "from sklearn.feature_selection import chi2, SelectKBest\n",
    "## selctor 정의하기.\n",
    "selector = SelectKBest(chi2, k=20)\n",
    "## 학습데이터에 fit_transform \n",
    "X_train_selected = selector.fit_transform(X_train, y_train)\n",
    "## 테스트 데이터는 transform\n",
    "X_test_selected = selector.transform(X_test)\n",
    "X_train_selected.shape, X_test_selected.shape"
   ]
  },
  {
   "cell_type": "code",
   "execution_count": 12,
   "metadata": {
    "collapsed": true
   },
   "outputs": [
    {
     "name": "stdout",
     "output_type": "stream",
     "text": [
      "Selected names:  Index(['DSRCalc_freq', 'PrepayCalc_freq', 'age_cat', 'desired_amount',\n",
      "       'employment_type_기타', 'employment_type_일용직', 'employment_type_정규직',\n",
      "       'houseown_type_자가', 'income_type_EARNEDINCOME2',\n",
      "       'income_type_FREELANCER', 'income_type_OTHERINCOME',\n",
      "       'income_type_PRIVATEBUSINESS', 'purpose_대환대출', 'purpose_생활비',\n",
      "       'purpose_전월세보증금', 'purpose_주택구입', 'purpose_투자', 'score_type', 'user_id',\n",
      "       'yearly_income'],\n",
      "      dtype='object')\n",
      "Unselected names:  Index(['existing_loan_amt', 'existing_loan_cnt', 'gender', 'houseown_type_배우자',\n",
      "       'houseown_type_전월세', 'income_type_PRACTITIONER', 'month',\n",
      "       'personal_rehabilitation_complete_yn', 'personal_rehabilitation_yn',\n",
      "       'purpose_사업자금', 'purpose_자동차구입', 'work_year'],\n",
      "      dtype='object')\n"
     ]
    }
   ],
   "source": [
    "all_names = X_train.columns\n",
    "## selector.get_support()\n",
    "selected_mask = selector.get_support()\n",
    "## 선택된 특성(변수)들\n",
    "selected_names = all_names[selected_mask]\n",
    "## 선택되지 않은 특성(변수)들\n",
    "unselected_names = all_names[~selected_mask]\n",
    "print('Selected names: ', selected_names)\n",
    "print('Unselected names: ', unselected_names)"
   ]
  },
  {
   "cell_type": "code",
   "execution_count": 14,
   "metadata": {},
   "outputs": [],
   "source": [
    "train.drop(['houseown_type_전월세','houseown_type_배우자','houseown_type_자가', 'personal_rehabilitation_complete_yn', 'personal_rehabilitation_complete_yn', 'month','gender'],axis=1, inplace=True)"
   ]
  },
  {
   "cell_type": "code",
   "execution_count": 15,
   "metadata": {},
   "outputs": [],
   "source": [
    "test.drop(['houseown_type_전월세','houseown_type_배우자','houseown_type_자가', 'personal_rehabilitation_complete_yn', 'personal_rehabilitation_complete_yn', 'month','gender'],axis=1, inplace=True)"
   ]
  },
  {
   "cell_type": "code",
   "execution_count": 18,
   "metadata": {
    "collapsed": true
   },
   "outputs": [
    {
     "ename": "AttributeError",
     "evalue": "'DataFrame' object has no attribute 'purpose_사업자금'",
     "output_type": "error",
     "traceback": [
      "\u001b[1;31m---------------------------------------------------------------------------\u001b[0m",
      "\u001b[1;31mAttributeError\u001b[0m                            Traceback (most recent call last)",
      "\u001b[1;32m<ipython-input-18-96c7f3818e15>\u001b[0m in \u001b[0;36m<module>\u001b[1;34m\u001b[0m\n\u001b[1;32m----> 1\u001b[1;33m \u001b[0mcondition\u001b[0m \u001b[1;33m=\u001b[0m \u001b[1;33m(\u001b[0m\u001b[0mtrain\u001b[0m\u001b[1;33m.\u001b[0m\u001b[0mpurpose_사업자금\u001b[0m \u001b[1;33m==\u001b[0m \u001b[1;36m1\u001b[0m\u001b[1;33m)\u001b[0m \u001b[1;33m|\u001b[0m \u001b[1;33m(\u001b[0m\u001b[0mtrain\u001b[0m\u001b[1;33m.\u001b[0m\u001b[0mpurpose_자동차구입\u001b[0m\u001b[1;33m==\u001b[0m \u001b[1;36m1\u001b[0m\u001b[1;33m)\u001b[0m\u001b[1;33m|\u001b[0m\u001b[1;33m(\u001b[0m\u001b[0mtrain\u001b[0m\u001b[1;33m.\u001b[0m\u001b[0mpurpose_전월세보증금\u001b[0m \u001b[1;33m==\u001b[0m \u001b[1;36m1\u001b[0m\u001b[1;33m)\u001b[0m\u001b[1;33m|\u001b[0m\u001b[1;33m(\u001b[0m\u001b[0mtrain\u001b[0m\u001b[1;33m.\u001b[0m\u001b[0mpurpose_주택구입\u001b[0m \u001b[1;33m==\u001b[0m \u001b[1;36m1\u001b[0m\u001b[1;33m)\u001b[0m\u001b[1;33m|\u001b[0m\u001b[1;33m(\u001b[0m\u001b[0mtrain\u001b[0m\u001b[1;33m.\u001b[0m\u001b[0mpurpose_투자\u001b[0m \u001b[1;33m==\u001b[0m \u001b[1;36m1\u001b[0m\u001b[1;33m)\u001b[0m\u001b[1;33m\u001b[0m\u001b[1;33m\u001b[0m\u001b[0m\n\u001b[0m\u001b[0;32m      2\u001b[0m \u001b[0mtrain\u001b[0m\u001b[1;33m.\u001b[0m\u001b[0mloc\u001b[0m\u001b[1;33m[\u001b[0m\u001b[0mcondition\u001b[0m\u001b[1;33m,\u001b[0m \u001b[1;34m'purpose_ETC'\u001b[0m\u001b[1;33m]\u001b[0m\u001b[1;33m=\u001b[0m\u001b[1;36m1\u001b[0m\u001b[1;33m\u001b[0m\u001b[1;33m\u001b[0m\u001b[0m\n\u001b[0;32m      3\u001b[0m \u001b[0mtrain\u001b[0m\u001b[1;33m.\u001b[0m\u001b[0mdrop\u001b[0m\u001b[1;33m(\u001b[0m\u001b[1;33m[\u001b[0m\u001b[1;34m'purpose_사업자금'\u001b[0m\u001b[1;33m,\u001b[0m \u001b[1;34m'purpose_자동차구입'\u001b[0m\u001b[1;33m,\u001b[0m \u001b[1;34m'purpose_전월세보증금'\u001b[0m\u001b[1;33m,\u001b[0m \u001b[1;34m'purpose_주택구입'\u001b[0m\u001b[1;33m,\u001b[0m \u001b[1;34m'purpose_투자'\u001b[0m\u001b[1;33m]\u001b[0m\u001b[1;33m,\u001b[0m\u001b[0maxis\u001b[0m\u001b[1;33m=\u001b[0m\u001b[1;36m1\u001b[0m\u001b[1;33m,\u001b[0m \u001b[0minplace\u001b[0m\u001b[1;33m=\u001b[0m\u001b[1;32mTrue\u001b[0m\u001b[1;33m)\u001b[0m\u001b[1;33m\u001b[0m\u001b[1;33m\u001b[0m\u001b[0m\n",
      "\u001b[1;32m~\\.conda\\envs\\testAI\\lib\\site-packages\\pandas\\core\\generic.py\u001b[0m in \u001b[0;36m__getattr__\u001b[1;34m(self, name)\u001b[0m\n\u001b[0;32m   5139\u001b[0m             \u001b[1;32mif\u001b[0m \u001b[0mself\u001b[0m\u001b[1;33m.\u001b[0m\u001b[0m_info_axis\u001b[0m\u001b[1;33m.\u001b[0m\u001b[0m_can_hold_identifiers_and_holds_name\u001b[0m\u001b[1;33m(\u001b[0m\u001b[0mname\u001b[0m\u001b[1;33m)\u001b[0m\u001b[1;33m:\u001b[0m\u001b[1;33m\u001b[0m\u001b[1;33m\u001b[0m\u001b[0m\n\u001b[0;32m   5140\u001b[0m                 \u001b[1;32mreturn\u001b[0m \u001b[0mself\u001b[0m\u001b[1;33m[\u001b[0m\u001b[0mname\u001b[0m\u001b[1;33m]\u001b[0m\u001b[1;33m\u001b[0m\u001b[1;33m\u001b[0m\u001b[0m\n\u001b[1;32m-> 5141\u001b[1;33m             \u001b[1;32mreturn\u001b[0m \u001b[0mobject\u001b[0m\u001b[1;33m.\u001b[0m\u001b[0m__getattribute__\u001b[0m\u001b[1;33m(\u001b[0m\u001b[0mself\u001b[0m\u001b[1;33m,\u001b[0m \u001b[0mname\u001b[0m\u001b[1;33m)\u001b[0m\u001b[1;33m\u001b[0m\u001b[1;33m\u001b[0m\u001b[0m\n\u001b[0m\u001b[0;32m   5142\u001b[0m \u001b[1;33m\u001b[0m\u001b[0m\n\u001b[0;32m   5143\u001b[0m     \u001b[1;32mdef\u001b[0m \u001b[0m__setattr__\u001b[0m\u001b[1;33m(\u001b[0m\u001b[0mself\u001b[0m\u001b[1;33m,\u001b[0m \u001b[0mname\u001b[0m\u001b[1;33m:\u001b[0m \u001b[0mstr\u001b[0m\u001b[1;33m,\u001b[0m \u001b[0mvalue\u001b[0m\u001b[1;33m)\u001b[0m \u001b[1;33m->\u001b[0m \u001b[1;32mNone\u001b[0m\u001b[1;33m:\u001b[0m\u001b[1;33m\u001b[0m\u001b[1;33m\u001b[0m\u001b[0m\n",
      "\u001b[1;31mAttributeError\u001b[0m: 'DataFrame' object has no attribute 'purpose_사업자금'"
     ]
    }
   ],
   "source": [
    "condition = (train.purpose_사업자금 == 1) | (train.purpose_자동차구입== 1)|(train.purpose_전월세보증금 == 1)|(train.purpose_주택구입 == 1)|(train.purpose_투자 == 1)\n",
    "train.loc[condition, 'purpose_ETC']=1\n",
    "train.drop(['purpose_사업자금', 'purpose_자동차구입', 'purpose_전월세보증금', 'purpose_주택구입', 'purpose_투자'],axis=1, inplace=True)"
   ]
  },
  {
   "cell_type": "markdown",
   "metadata": {},
   "source": []
  },
  {
   "cell_type": "code",
   "execution_count": 20,
   "metadata": {},
   "outputs": [],
   "source": [
    "condition = (test.purpose_사업자금 == 1) | (test.purpose_자동차구입== 1)|(test.purpose_전월세보증금 == 1)|(test.purpose_주택구입 == 1)|(test.purpose_투자 == 1)\n",
    "test.loc[condition, 'purpose_ETC']=1\n",
    "test.drop(['purpose_사업자금', 'purpose_자동차구입', 'purpose_전월세보증금', 'purpose_주택구입', 'purpose_투자'],axis=1, inplace=True)"
   ]
  },
  {
   "cell_type": "code",
   "execution_count": 21,
   "metadata": {
    "collapsed": true
   },
   "outputs": [
    {
     "name": "stdout",
     "output_type": "stream",
     "text": [
      "<class 'pandas.core.frame.DataFrame'>\n",
      "Int64Index: 10918080 entries, 1726 to 14301806\n",
      "Data columns (total 24 columns):\n",
      " #   Column                       Dtype  \n",
      "---  ------                       -----  \n",
      " 0   age_cat                      float32\n",
      " 1   application_id               float32\n",
      " 2   desired_amount               float32\n",
      " 3   employment_type_기타           float32\n",
      " 4   employment_type_일용직          float32\n",
      " 5   employment_type_정규직          float32\n",
      " 6   existing_loan_amt            float32\n",
      " 7   existing_loan_cnt            float32\n",
      " 8   income_type_EARNEDINCOME2    float32\n",
      " 9   income_type_FREELANCER       float32\n",
      " 10  income_type_OTHERINCOME      float32\n",
      " 11  income_type_PRACTITIONER     float32\n",
      " 12  income_type_PRIVATEBUSINESS  float32\n",
      " 13  personal_rehabilitation_yn   float32\n",
      " 14  purpose_대환대출                 float32\n",
      " 15  purpose_생활비                  float32\n",
      " 16  score_type                   float32\n",
      " 17  work_year                    float32\n",
      " 18  yearly_income                float32\n",
      " 19  user_id                      float32\n",
      " 20  PrepayCalc_freq              float32\n",
      " 21  DSRCalc_freq                 float64\n",
      " 22  is_applied                   float64\n",
      " 23  purpose_ETC                  float64\n",
      "dtypes: float32(21), float64(3)\n",
      "memory usage: 1.5 GB\n"
     ]
    }
   ],
   "source": [
    "train.info()"
   ]
  },
  {
   "cell_type": "code",
   "execution_count": 23,
   "metadata": {
    "collapsed": true
   },
   "outputs": [
    {
     "name": "stdout",
     "output_type": "stream",
     "text": [
      "<class 'pandas.core.frame.DataFrame'>\n",
      "Int64Index: 3383727 entries, 0 to 14300172\n",
      "Data columns (total 24 columns):\n",
      " #   Column                       Dtype  \n",
      "---  ------                       -----  \n",
      " 0   age_cat                      float32\n",
      " 1   application_id               float32\n",
      " 2   desired_amount               float32\n",
      " 3   employment_type_기타           float32\n",
      " 4   employment_type_일용직          float32\n",
      " 5   employment_type_정규직          float32\n",
      " 6   existing_loan_amt            float32\n",
      " 7   existing_loan_cnt            float32\n",
      " 8   income_type_EARNEDINCOME2    float32\n",
      " 9   income_type_FREELANCER       float32\n",
      " 10  income_type_OTHERINCOME      float32\n",
      " 11  income_type_PRACTITIONER     float32\n",
      " 12  income_type_PRIVATEBUSINESS  float32\n",
      " 13  personal_rehabilitation_yn   float32\n",
      " 14  purpose_대환대출                 float32\n",
      " 15  purpose_생활비                  float32\n",
      " 16  score_type                   float32\n",
      " 17  work_year                    float32\n",
      " 18  yearly_income                float32\n",
      " 19  user_id                      float32\n",
      " 20  PrepayCalc_freq              float32\n",
      " 21  DSRCalc_freq                 float64\n",
      " 22  is_applied                   float64\n",
      " 23  purpose_ETC                  float64\n",
      "dtypes: float32(21), float64(3)\n",
      "memory usage: 374.3 MB\n"
     ]
    }
   ],
   "source": [
    "test.info()"
   ]
  },
  {
   "cell_type": "code",
   "execution_count": 25,
   "metadata": {},
   "outputs": [],
   "source": [
    "train.to_csv(\"train_수정_2.csv\",index=False)\n",
    "test.to_csv(\"train_수정_2.csv\",index=False)"
   ]
  },
  {
   "cell_type": "code",
   "execution_count": null,
   "metadata": {},
   "outputs": [],
   "source": []
  }
 ],
 "metadata": {
  "kernelspec": {
   "display_name": "Python 3",
   "language": "python",
   "name": "python3"
  },
  "language_info": {
   "codemirror_mode": {
    "name": "ipython",
    "version": 3
   },
   "file_extension": ".py",
   "mimetype": "text/x-python",
   "name": "python",
   "nbconvert_exporter": "python",
   "pygments_lexer": "ipython3",
   "version": "3.8.5"
  }
 },
 "nbformat": 4,
 "nbformat_minor": 4
}
